{
 "cells": [
  {
   "cell_type": "markdown",
   "metadata": {},
   "source": [
    "# Parabolic properties"
   ]
  },
  {
   "cell_type": "code",
   "execution_count": 1,
   "metadata": {},
   "outputs": [],
   "source": [
    "import numpy as np\n",
    "import pandas as pd\n",
    "import matplotlib.pyplot as plt\n",
    "import sys\n",
    "sys.path.insert(1, 'libraries')\n",
    "import rc\n",
    "import sections as sect\n",
    "import materials as mat\n",
    "import utils"
   ]
  },
  {
   "cell_type": "code",
   "execution_count": 2,
   "metadata": {},
   "outputs": [
    {
     "name": "stdout",
     "output_type": "stream",
     "text": [
      "y(x) = 3x**2+30x+30\n"
     ]
    }
   ],
   "source": [
    "# DEFINE PARABOLA Y\n",
    "\n",
    "a=3\n",
    "b=30\n",
    "c=30\n",
    "def fun(x):return a*x**2+b*x+c\n",
    "def fun_tan(x):return (2*a*x+b,fun(x)-(2*a*x+b)*x)\n",
    "print('y(x) = {0}x**2+{1}x+{2}'.format(a,b,c))"
   ]
  },
  {
   "cell_type": "code",
   "execution_count": 3,
   "metadata": {},
   "outputs": [
    {
     "name": "stdout",
     "output_type": "stream",
     "text": [
      "y(-4) = -42\n",
      "tangent line to parabola at x = -4:\n",
      "y(x) = 6x+-18\n"
     ]
    }
   ],
   "source": [
    "# Check the equation for a specific x (y and y')\n",
    "x=-4\n",
    "\n",
    "print('y({0}) = {1}'.format(x,fun(x)))\n",
    "print('tangent line to parabola at x = {0}:'.format(x)) \n",
    "print('y(x) = {0}x+{1}'.format(fun_tan(x)[0],fun_tan(x)[1]))"
   ]
  },
  {
   "cell_type": "code",
   "execution_count": 4,
   "metadata": {},
   "outputs": [
    {
     "name": "stdout",
     "output_type": "stream",
     "text": [
      "x0=-2, E0=18, y0=-18, x1=-3, E1=12\n"
     ]
    }
   ],
   "source": [
    "# Test on points at x0 =-2 and x1 = -3\n",
    "\n",
    "x0=-2\n",
    "E0=fun_tan(x0)[0]\n",
    "y0=fun(x0)\n",
    "x1=-3\n",
    "E1=fun_tan(x1)[0]\n",
    "print('x0={}, E0={}, y0={}, x1={}, E1={}'.format(x0,E0,y0,x1,E1))"
   ]
  },
  {
   "cell_type": "code",
   "execution_count": 5,
   "metadata": {},
   "outputs": [
    {
     "data": {
      "text/plain": [
       "-42.0"
      ]
     },
     "execution_count": 5,
     "metadata": {},
     "output_type": "execute_result"
    }
   ],
   "source": [
    "# Deriviation of a generalised equation\n",
    "\n",
    "a=(E0-E1)/2/(x0-x1)\n",
    "b=E0-2*a*x0\n",
    "c=y0-a*x0**2-b*x0\n",
    "\n",
    "y=a*x**2+b*x+c\n",
    "y=(E0-E1)/2/(x0-x1)*x**2+(E0-2*(E0-E1)/2/(x0-x1)*x0)*x+y0-a*x0**2-(E0-2*(E0-E1)/2/(x0-x1)*x0)*x0\n",
    "z=(E0-E1)/(x0-x1)\n",
    "y=z/2*x**2+(E0-2*z/2*x0)*x+y0-(E0-E1)/2/(x0-x1)*x0**2-(E0-2*z/2*x0)*x0\n",
    "y=z/2*x**2+(E0-z*x0)*x+y0-z/2*x0**2-(E0-z*x0)*x0\n",
    "y=z/2*x**2+E0*x-z*x0*x+y0-z/2*x0**2-E0*x+z*x0*x0\n",
    "y=z*(x**2/2-x0*x-x0**2/2+x0**2)+E0*(x-x0)+y0\n",
    "y=(E0-E1)/(x0-x1)*(x**2/2-x0*x+x0**2/2)+E0*(x-x0)+y0\n",
    "# y=x*((E0-E1)/(x0-x1)*(x/2-x0)+E0)+(E0-E1)/(x0-x1)*x0**2/2-E0*x0+y0\n",
    "# y=x*((E0-E1)/(x0-x1)*(x/2-x0)+E0)+x0*((E0-E1)/(x0-x1)*x0/2-E0)+y0\n",
    "y=(x-x0)**2*(E0-E1)/(2*(x0-x1))+E0*(x-x0)+y0\n",
    "y"
   ]
  },
  {
   "cell_type": "code",
   "execution_count": 6,
   "metadata": {},
   "outputs": [
    {
     "name": "stdout",
     "output_type": "stream",
     "text": [
      "y(x) = 6.0x+-18.0\n",
      "y(x) = 6.0x+-18.0\n"
     ]
    }
   ],
   "source": [
    "# derivative equation a\n",
    "y_der_a=2*(E0-E1)/(x0-x1)*x/2-(E0-E1)/(x0-x1)*x0+E0\n",
    "y_der_a=(x*(E0-E1)+x0*E1-x1*E0)/(x0-x1)\n",
    "y_der_a\n",
    "\n",
    "# derivative equation b\n",
    "y_der_b=(E0-E1)/(x0-x1)*(x**2/2-x0*x+x0**2/2)+E0*(x-x0)+y0-(x*(E0-E1)+x0*E1-x1*E0)/(x0-x1)*x\n",
    "y_der_b=(x**2*(E1-E0)-x0**2*(E0+E1)+2*x0*x1*E0)/(2*(x0-x1))+y0\n",
    "\n",
    "print('y(x) = {0}x+{1}'.format(y_der_a,y_der_b))\n",
    "print('y(x) = {0}x+{1}'.format(fun_tan(x)[0],fun_tan(x)[1]))"
   ]
  },
  {
   "cell_type": "code",
   "execution_count": 7,
   "metadata": {},
   "outputs": [
    {
     "data": {
      "text/plain": [
       "-42.0"
      ]
     },
     "execution_count": 7,
     "metadata": {},
     "output_type": "execute_result"
    }
   ],
   "source": [
    "# if E1 not known but secant line is\n",
    "E1=2*a*x1+b\n",
    "S=(fun(x1)-y0)/(x1-x0)\n",
    "S=(E1+E0)/2\n",
    "E1=2*S-E0\n",
    "y=(x-x0)**2*(2*E0-2*S)/(2*(x0-x1))+E0*(x-x0)+y0\n",
    "y"
   ]
  },
  {
   "cell_type": "code",
   "execution_count": 8,
   "metadata": {},
   "outputs": [
    {
     "data": {
      "text/plain": [
       "-42.0"
      ]
     },
     "execution_count": 8,
     "metadata": {},
     "output_type": "execute_result"
    }
   ],
   "source": [
    "#if x0=0 and E1=0\n",
    "x0=0\n",
    "E0=fun_tan(x0)[0]\n",
    "y0=fun(x0)\n",
    "x1=-5\n",
    "E1=fun_tan(x1)[0]\n",
    "\n",
    "y=x*(-E0/x1*x/2+E0)+y0\n",
    "y"
   ]
  },
  {
   "cell_type": "code",
   "execution_count": 26,
   "metadata": {},
   "outputs": [
    {
     "name": "stdout",
     "output_type": "stream",
     "text": [
      "y(x) = 3.0x**2+30.0x+30.0\n",
      "y(x) = -3.0x**2+6.0x+6.0\n",
      "35.08333333333333 6.916666666666668\n"
     ]
    }
   ],
   "source": [
    "# E1=2*S-E0\n",
    "# S=(E1+E0)/2\n",
    "def func_E1(x,E0,E1,x0,x1,y0,printing=True): \n",
    "    a=(E0-E1)/2/(x0-x1)\n",
    "    b=E0-2*a*x0\n",
    "    c=y0-a*x0**2-b*x0\n",
    "    if printing: print('y(x) = {0}x**2+{1}x+{2}'.format(a,b,c))\n",
    "    return (x-x0)**2*(E0-E1)/(2*(x0-x1))+E0*(x-x0)+y0\n",
    "    \n",
    "def func_S(x,S,E0,x0,x1,y0,printing=True): \n",
    "    a=(E0-(2*S-E0))/2/(x0-x1)\n",
    "    b=E0-2*a*x0\n",
    "    c=y0-a*x0**2-b*x0\n",
    "    if printing: print('y(x) = {0}x**2+{1}x+{2}'.format(a,b,c))\n",
    "    return (x-x0)**2*(E0-(2*S-E0))/(2*(x0-x1))+E0*(x-x0)+y0\n",
    "\n",
    "def func_der(x,E0,E1,x0,x1,printing=True): \n",
    "    a=(x*(E0-E1)+x0*E1-x1*E0)/(x0-x1)\n",
    "    b=(x**2*(E1-E0)-x0**2*(E0+E1)+2*x0*x1*E0)/(2*(x0-x1))+y0\n",
    "    if printing: print('y(x) = {0}x+{1}'.format(a,b))\n",
    "    return (a,b)\n",
    "\n",
    "fun_E1=func_E1(x,E0,E1,x0,x1,y0,printing=True)\n",
    "fun_S=func_S(x,S,E0,x0,x1,y0,printing=True)\n",
    "fun_der=func_der(x,E0,E1,x0,x1,printing=False)\n",
    "print(fun_E1,fun_S)"
   ]
  },
  {
   "cell_type": "code",
   "execution_count": 25,
   "metadata": {},
   "outputs": [
    {
     "name": "stdout",
     "output_type": "stream",
     "text": [
      "y(x) = 3x**2+30x+30\n",
      "func_E1\n",
      "y(x) = 3.0x**2+30.0x+30.0\n",
      "func_S\n",
      "y(x) = -3.0x**2+6.0x+6.0\n"
     ]
    },
    {
     "data": {
      "image/png": "[encoded data removed]",
      "text/plain": [
       "<Figure size 432x288 with 1 Axes>"
      ]
     },
     "metadata": {
      "needs_background": "light"
     },
     "output_type": "display_data"
    }
   ],
   "source": [
    "\n",
    "\n",
    "def plotting(x_range,title='Parabola',xlim=(None,None),ylim=(None,None),step_size=1):\n",
    "    fig,ax = utils.plotBase()\n",
    "    x_range=np.arange(x_range[0],x_range[1],step_size)\n",
    "    ax.plot(x_range,[fun(i) for i in x_range],label='original formula')\n",
    "    ax.plot(x_range,[func_E1(i,E0,E1,x0,x1,y0,printing=False) for i in x_range],label='func_E1')\n",
    "    print('func_E1')\n",
    "    ss=func_E1(x_range[0],E0,E1,x0,x1,y0,printing=True)\n",
    "    ax.plot(x_range,[func_S(i,S,E0,x0,x1,y0,printing=False) for i in x_range],label='func_S')\n",
    "    print('func_S')\n",
    "    ss=func_S(x_range[0],S,E0,x0,x1,y0,printing=True)\n",
    "    ax.set_title(title)\n",
    "    ax.set_xlabel('x')\n",
    "    ax.set_ylabel('y')\n",
    "    ax.set_xlim(xlim)\n",
    "    ax.set_ylim(ylim)\n",
    "    ax.legend()\n",
    "    plt.show()\n",
    "\n",
    "a=3\n",
    "b=30\n",
    "c=30\n",
    "def fun(x):return a*x**2+b*x+c\n",
    "def fun_tan(x):return (2*a*x+b,fun(x)-(2*a*x+b)*x)\n",
    "print('y(x) = {0}x**2+{1}x+{2}'.format(a,b,c))\n",
    "\n",
    "x_range=[-6,0]   \n",
    "\n",
    "x0=-2\n",
    "E0=fun_tan(x0)[0]\n",
    "y0=fun(x0)\n",
    "x1=-3\n",
    "E1=fun_tan(x1)[0]\n",
    "S=(E1+E0/2)\n",
    "\n",
    "plotting(x_range,step_size=0.1)"
   ]
  },
  {
   "cell_type": "code",
   "execution_count": 11,
   "metadata": {},
   "outputs": [
    {
     "data": {
      "text/plain": [
       "0.16666666666666666"
      ]
     },
     "execution_count": 11,
     "metadata": {},
     "output_type": "execute_result"
    }
   ],
   "source": [
    "x=1/(2*a)\n",
    "x"
   ]
  },
  {
   "cell_type": "code",
   "execution_count": null,
   "metadata": {},
   "outputs": [],
   "source": []
  },
  {
   "cell_type": "code",
   "execution_count": 12,
   "metadata": {},
   "outputs": [
    {
     "name": "stdout",
     "output_type": "stream",
     "text": [
      "y(x) = 4688762.953367874x**2+9642.30310880829x+5.721558186528498\n",
      "func_E1\n",
      "y(x) = 4688762.953367874x**2+9642.303108807653x+5.721558187156916\n",
      "func_S\n",
      "y(x) = 18750230.661917098x**2+56255513.13730571x+56245876.55575509\n"
     ]
    },
    {
     "data": {
      "image/png": "[encoded data removed]",
      "text/plain": [
       "<Figure size 432x288 with 1 Axes>"
      ]
     },
     "metadata": {
      "needs_background": "light"
     },
     "output_type": "display_data"
    }
   ],
   "source": [
    "#y(x) = 4688762.953367874x**2+-9642.30310880829x+5.721558186528498\n",
    "#y(x) = -8517.0x+1.02204\n",
    "\n",
    "a=4688762.953367874\n",
    "b=9642.30310880829\n",
    "c=5.721558186528498\n",
    "def fun(x):return a*x**2+b*x+c\n",
    "def fun_tan(x):return (2*a*x+b,fun(x)-(2*a*x+b)*x)\n",
    "print('y(x) = {0}x**2+{1}x+{2}'.format(a,b,c))\n",
    "\n",
    "x_range=[-0.0005,0.002]  \n",
    "\n",
    "x0=-2\n",
    "E0=fun_tan(x0)[0]\n",
    "y0=fun(x0)\n",
    "x1=-3\n",
    "E1=fun_tan(x1)[0]\n",
    "S=(E1+E0/2)\n",
    "\n",
    "plotting(x_range)"
   ]
  },
  {
   "cell_type": "markdown",
   "metadata": {},
   "source": [
    "## con1"
   ]
  },
  {
   "cell_type": "code",
   "execution_count": null,
   "metadata": {},
   "outputs": [],
   "source": []
  }
 ],
 "metadata": {
  "kernelspec": {
   "display_name": "Python 3",
   "language": "python",
   "name": "python3"
  },
  "language_info": {
   "codemirror_mode": {
    "name": "ipython",
    "version": 3
   },
   "file_extension": ".py",
   "mimetype": "text/x-python",
   "name": "python",
   "nbconvert_exporter": "python",
   "pygments_lexer": "ipython3",
   "version": "3.7.6"
  }
 },
 "nbformat": 4,
 "nbformat_minor": 4
}
