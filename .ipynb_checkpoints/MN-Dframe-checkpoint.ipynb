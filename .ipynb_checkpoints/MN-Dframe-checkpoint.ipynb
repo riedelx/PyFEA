{
 "cells": [
  {
   "cell_type": "markdown",
   "metadata": {},
   "source": [
    "# MN-curves"
   ]
  },
  {
   "cell_type": "code",
   "execution_count": 1,
   "metadata": {},
   "outputs": [],
   "source": [
    "import numpy as np\n",
    "import pandas as pd\n",
    "import matplotlib.pyplot as plt\n",
    "import sys\n",
    "sys.path.insert(1, 'libraries')\n",
    "import rc\n",
    "import sections as sect\n",
    "import materials as mat\n",
    "import utils"
   ]
  },
  {
   "cell_type": "code",
   "execution_count": 2,
   "metadata": {},
   "outputs": [],
   "source": [
    "def plotStress(self,curve,title=\"\",lbl=\"\",xlim=(None,None),ylim=(None,None),plotting=True,legend=True):\n",
    "    if plotting:\n",
    "        fig,ax = utils.plotBase()\n",
    "        ax.plot(curve['strain'],curve['stress'],'-', linewidth=2, markersize=5,label=lbl)\n",
    "        if legend:\n",
    "            ax.legend(loc='lower right')\n",
    "        ax.set_title(title)\n",
    "        ax.set_xlabel('Strain')\n",
    "        ax.set_ylabel('Stress [MPa]')\n",
    "        ax.set_xlim(xlim)\n",
    "        ax.set_ylim(ylim)\n",
    "        plt.show()\n",
    "    return curve['strain'],curve['stress']"
   ]
  },
  {
   "cell_type": "code",
   "execution_count": 3,
   "metadata": {},
   "outputs": [],
   "source": [
    "def alpha_plot(alphat,alphac,extra):\n",
    "    if alphat==0: at='='\n",
    "    elif alphat>0: at='>'\n",
    "    else: at='<'\n",
    "    if alphac==0: ac='='\n",
    "    elif alphac>0: ac='>'\n",
    "    else: ac='<'\n",
    "    title='C50, alphac '+ac+' 0, alphat '+at+' 0'+extra\n",
    "    return title"
   ]
  },
  {
   "cell_type": "code",
   "execution_count": 205,
   "metadata": {},
   "outputs": [],
   "source": [
    "class stmdl2_KR:\n",
    "    # this is con1 ADAPTIC model\n",
    "    def __init__(self,ec0,muec1,strnc1,stresc1,et0,muet1,strnt1,pset,crks,alphac,alphat):#pseto,crkso,\n",
    "        # This subroutine calculates the stress at a monitoring point for\n",
    "        # material MODEL(2).\n",
    "\n",
    "        # Establish the stress depending on the sign of the applied\n",
    "        # strain relative to the initial plastic set and crack strain\n",
    "        self.ec0=ec0 # Secant compressive stiffness\n",
    "        self.muec1=muec1 # Compressive softening stiffness\n",
    "        self.strnc1=strnc1 # strain at residual compressive strength \n",
    "        self.stresc1=stresc1 # residual compressive strength \n",
    "        self.et0=et0 # Tensile stiffness\n",
    "        self.muet1=muet1 # Tensile softening stiffness\n",
    "        self.strnt1=strnt1 # strain at peak tensile strength ?\n",
    "        self.pseto=pseto # plastic strain in compression at the start of the step, \n",
    "                         # represents the intersection of the unloading branch with the strain axis\n",
    "        self.crkso=crkso # plastic strain in tension at the start of the step\n",
    "        self.pset=pseto\n",
    "        self.crks=crkso\n",
    "        self.alphac=alphac\n",
    "        self.alphat=alphat\n",
    "        \n",
    "    def func_S(self,x,S,E0,x0,x1,y0,printing=False): #return (x-x0)**2*(2*E0-2*S)/(2*(x0-x1))+E0*(x-x0)+y0   \n",
    "        a=(E0-(2*S-E0))/2/(x0-x1)\n",
    "        b=E0-2*a*x0\n",
    "        c=y0-a*x0**2-b*x0\n",
    "        if printing: print('y(x) = {0}x**2+{1}x+{2}'.format(a,b,c))\n",
    "        return (x-x0)**2*(2*E0-2*S)/(2*(x0-x1))+E0*(x-x0)+y0\n",
    "        \n",
    "\n",
    "    def func_E1(self,x,E0,E1,x0,x1,y0,printing=False): #return (x-x0)**2*(E0-E1)/(2*(x0-x1))+E0*(x-x0)+y0\n",
    "        a=(E0-E1)/2/(x0-x1)\n",
    "        b=E0-2*a*x0\n",
    "        c=y0-a*x0**2-b*x0\n",
    "        if printing: print('y(x) = {0}x**2+{1}x+{2}'.format(a,b,c))\n",
    "        return (x-x0)**2*(E0-E1)/(2*(x0-x1))+E0*(x-x0)+y0\n",
    "        \n",
    "    def func_der(self,x,E0,E1,x0,x1,printing=False): #return ((x*(E0-E1)+x0*E1-x1*E0)/(x0-x1),(x**2*(E1-E0)-x0**2*(E0+E1)+2*x0*x1*E0)/(2*(x0-x1))+y0)\n",
    "        a=(x*(E0-E1)+x0*E1-x1*E0)/(x0-x1)\n",
    "        b=(x**2*(E1-E0)-x0**2*(E0+E1)+2*x0*x1*E0)/(2*(x0-x1))+y0\n",
    "        if printing: print('y(x) = {0}x+{1}'.format(a,b))\n",
    "        return (a,b)\n",
    "\n",
    "    def stress(self, strn,printing=False):\n",
    "        self.strn=strn\n",
    "        if(self.strn<=self.pseto):      # Compressive strain increment\n",
    "            # NOTE: quad is the relative difference between the initial\n",
    "            #       compressive tangent modulus and the secant modulus\n",
    "\n",
    "            self.ec0t=(1+np.absolute(self.alphac))*self.ec0 # initial tangent modulus in compression\n",
    "\n",
    "            if(self.alphac!=0): # implies quadratic initial compressive response \n",
    "                # if plastic response occured: ??\n",
    "                self.strnc0=(self.stresc1-self.muec1*self.strnc1)/(self.ec0-self.muec1)\n",
    "                \n",
    "            # Obtain the stress assuming elastic conditions, and determine\n",
    "            # the force from the limiting curve\n",
    "            self.strese=self.ec0t*(self.strn-self.pseto) # elastic stress based on ec0t\n",
    "            # this gives stress in intial compressive response if quad = 0\n",
    "\n",
    "            if(self.alphac!=0 and self.strn>self.strnc0): # initial quadratic response\n",
    "                # range: pseto>=strn>strnc0\n",
    "\n",
    "                #quadratic formulation for stress:\n",
    "                self.stresl=self.strn*(self.ec0t+(self.ec0-self.ec0t)*self.strn/self.strnc0)\n",
    "                self.etan=self.ec0t+2*(self.ec0-self.ec0t)*self.strn/self.strnc0\n",
    "\n",
    "            elif(self.alphac<0 and self.strn>self.strnc1): # softening branch\n",
    "                # quadratic formulation for stress:\n",
    "                if (self.strn<(self.strnc0+self.strnc1)/2):\n",
    "                    self.stresl=self.stresc1-2*(self.strnc1-self.strn)**2*self.muec1/(self.strnc1-self.strnc0)\n",
    "                    self.etan=self.ec0t+2*(self.ec0-self.ec0t)*self.strn/self.strnc0\n",
    "                \n",
    "                else:\n",
    "                    self.stresl=self.strnc0*self.ec0+2*(self.strn-self.strnc0)**2*self.muec1/(self.strnc1-self.strnc0)\n",
    "                    self.etan=2*self.ec0*(self.strn-self.strnc0)/(self.strnc0+self.strnc1)/2\n",
    "                \n",
    "            elif(self.strn>self.strnc1): # softening branch\n",
    "                self.stresl=self.stresc1+self.muec1*(self.strn-self.strnc1)\n",
    "                self.etan=self.muec1\n",
    "\n",
    "            else: # residual compressive strength\n",
    "\n",
    "                self.stresl=self.stresc1\n",
    "                self.etan=0.0\n",
    "\n",
    "            # Establish the stress and the plastic set\n",
    "\n",
    "            if(self.strese>self.stresl):\n",
    "\n",
    "                self.stres=self.strese\n",
    "                self.pset=self.pseto\n",
    "                self.etan=self.ec0t\n",
    "\n",
    "            else:\n",
    "\n",
    "                self.stres=self.stresl\n",
    "                self.pset=self.strn-self.stresl/self.ec0t\n",
    "\n",
    "            self.crks=self.crkso\n",
    "\n",
    "        elif(self.et0==0.0 or self.strn<self.crkso+self.pseto):   # Cracked zone\n",
    "\n",
    "            self.stres=0.0\n",
    "            self.pset=self.pseto\n",
    "            self.crks=self.crkso\n",
    "            self.etan=0\n",
    "\n",
    "        else:   # Tensile strain increment\n",
    "\n",
    "            # Obtain the stress assuming elastic conditions, and\n",
    "            # determine the force from the limiting curve\n",
    "            if(self.alphat!=0):\n",
    "                self.strest0=self.et0*self.strnt1\n",
    "                self.strnt2=self.strnt1-self.strest0/self.muet1\n",
    "                if(self.alphat<0): # implies quadratic initial compressive response \n",
    "                    self.muet1t=-self.alphat*self.muet1+self.muet1\n",
    "                elif(self.alphat>0): # implies quadratic initial compressive response \n",
    "                    self.et0t=self.alphat*self.et0+self.et0\n",
    "            \n",
    "            self.strese=self.et0*(self.strn-(self.pseto+self.crkso))\n",
    "\n",
    "            self.stresl=self.muet1*(self.strn-(self.pseto+self.strnt1))+self.et0*self.strnt1  # my modification\n",
    "\n",
    "            if(self.stresl>0.0):\n",
    "\n",
    "                self.etan=self.muet1\n",
    "\n",
    "            else: # 'if ultimate tensile strain is exceeded'\n",
    "                self.stresl=0.0\n",
    "                self.etan=0.0\n",
    "\n",
    "            # Establish the stress and the plastic set\n",
    "\n",
    "            if(self.strese<self.stresl): \n",
    "                # initial elastic tensile response\n",
    "                if (alphat>0): # quadratic formulation for stress\n",
    "                    self.stresq=self.strn*(self.et0t+(self.et0-self.et0t)*self.strn/self.strnt1)\n",
    "                    self.strese=self.et0t*(self.strn-(self.pseto+self.crkso))\n",
    "                    if (self.stresq<self.strese):\n",
    "                        self.stres=self.stresq\n",
    "                        #self.etan=self.et0\n",
    "                    else:\n",
    "                        self.stres=self.strese\n",
    "                        self.etan=self.et0\n",
    "                else:\n",
    "                    self.stres=self.strese\n",
    "                    self.etan=self.et0\n",
    "                self.crks=self.crkso\n",
    "            else: # tensile softening\n",
    "                if (alphat<0  ): #and (self.strn-self.pseto)<self.strnt2 # quadratic formulation for stress\n",
    "                    #self.stresl=self.strest0+((self.strn-self.pseto)-self.strnt1)*(self.muet1t+(self.muet1-self.muet1t)*((self.strn-self.pseto)-self.strnt1)/(self.strnt2-self.strnt1))\n",
    "                    #self.stresl=self.func_E1(x=(self.strn-self.pseto),E0=self.muet1t,E1=0,x0=self.strnt1,x1=self.strnt2,y0=self.strest0)\n",
    "                    self.stresl=self.func_E1(x=(self.strn-self.pseto),E0=self.muet1t,E1=0,x0=self.strnt1,x1=self.strnt2,y0=self.strest0,printing=printing)\n",
    "                    #self.stresl=self.func_S(x=(self.strn-self.pseto),S=self.muet1,E0=self.muet1t,x0=self.strnt1,x1=self.strnt2,y0=self.strest0)\n",
    "                elif (alphat>0 ): # and (self.strn-self.pseto)<self.strnt2 # quadratic formulation for stress\n",
    "                    if (self.strn>(self.strnt1+self.strnt2)/2):\n",
    "                        self.stresl=-2*(self.strnt2-self.strn)**2*self.muet1/(self.strnt2-self.strnt1)\n",
    "                        #self.etan=self.ec0t+2*(self.ec0-self.ec0t)*self.strn/self.strnc0\n",
    "                    else:\n",
    "                        self.stresl=self.strest0+2*(self.strn-self.strnt1)**2*self.muet1/(self.strnt2-self.strnt1)\n",
    "                        #self.etan=2*self.ec0*(self.strn-self.strnc0)/(self.strnc0+self.strnc1)/2\n",
    "                self.stres=self.stresl\n",
    "                self.crks=self.strn-self.pseto-self.stresl/self.et0\n",
    "\n",
    "        self.pset=self.pseto\n",
    "\n",
    "        return self.stres\n",
    "\n",
    "    def plot(self,title='stmdl2',step_size=0.001,legend=True,ranges=''):\n",
    "        if ranges=='':ranges=[-np.absolute(self.strnc1),np.absolute(self.strnt1)]\n",
    "        strain=np.arange(ranges[0],ranges[1],step_size)\n",
    "        stress=np.array([self.stress(i) for i in strain])\n",
    "        strain=strain.reshape(len(strain),1)\n",
    "        stress=stress.reshape(len(stress),1)\n",
    "        self.df=pd.DataFrame(np.hstack((stress,strain)),columns=['stress','strain'])\n",
    "        #self.np=plotStress(self,self.df,lbl=\"stmdl2\",plotting='True',title=title,legend=legend)\n",
    "        #self.np=np.array(self.np)\n",
    "        fig,ax = utils.plotBase()\n",
    "        ax.plot(self.df['strain'],self.df['stress'],'-', linewidth=2, markersize=5,label='')\n",
    "        ax.plot(self.strnt1+self.pseto,self.strest0,'or')\n",
    "        ax.plot(self.strnt2+self.pseto,0,'or')\n",
    "        if True:\n",
    "            x=self.strnt1-self.pseto\n",
    "            self.stress(x,printing=True)\n",
    "            A=self.func_der(x=x,E0=self.muet1t,E1=0,x0=self.strnt1,x1=self.strnt2,printing=True)\n",
    "            #print('y(x) = {0}x+{1}'.format(A[0],A[1]))\n",
    "            ax.plot(strain,[A[0]*i+A[1] for i in strain],0,)\n",
    "            \n",
    "            #f.strn-self.pseto),E0=self.muet1t,E1=0,x0=self.strnt1,x1=self.strnt2,y0=self.strest0)\n",
    "        "
   ]
  },
  {
   "cell_type": "code",
   "execution_count": 206,
   "metadata": {},
   "outputs": [],
   "source": [
    "pseto=0#-0.0005#-0.0005\n",
    "crkso=0#0.0002\n",
    "quad=concr.alpha\n",
    "etan=concr.Ec0\n",
    "con1=stmdl2_KR(ec0,muec1,strnc1,stresc1,et0,muet1,strnt1,pseto,crkso,alphac,alphat)#pset,crks,\n",
    "strn=0.002\n",
    "#con1.stress(strn)\n",
    "#con1.strest0\n",
    "#self=con1 #self.strest0+((self.strn-self.pseto)-self.strnt1)*(self.muet1t+(self.muet1-self.muet1t)*((self.strn-self.pseto)-self.strnt1)/(self.strnt2-self.strnt1))"
   ]
  },
  {
   "cell_type": "code",
   "execution_count": null,
   "metadata": {},
   "outputs": [],
   "source": []
  },
  {
   "cell_type": "code",
   "execution_count": 207,
   "metadata": {},
   "outputs": [
    {
     "name": "stdout",
     "output_type": "stream",
     "text": [
      "y(x) = 4688762.953367874x**2+-9642.30310880829x+5.721558186528498\n",
      "y(x) = -8517.0x+1.02204\n"
     ]
    },
    {
     "data": {
      "image/png": "[encoded data removed]",
      "text/plain": [
       "<Figure size 432x288 with 1 Axes>"
      ]
     },
     "metadata": {
      "needs_background": "light"
     },
     "output_type": "display_data"
    }
   ],
   "source": [
    "concr = mat.con1('C50', 50, 250, epsilon_t2 = 0.001, fc2_factor = 0.05, characteristic = True,plotting=False,)\n",
    "\n",
    "ec0=concr.Ec1\n",
    "muec1=concr.Ec2\n",
    "et0=concr.Et1\n",
    "muet1=concr.Et2\n",
    "\n",
    "strnt1=concr.epsilon_1t\n",
    "#strnc0=-concr.epsilon_1c\n",
    "strnc1=-concr.epsilon_2c\n",
    "\n",
    "stresc1=-concr.fc2\n",
    "#strnt2=concr.epsilon_2t\n",
    "\n",
    "pseto=0#-0.0005\n",
    "crkso=0#-0.00002\n",
    "\n",
    "quad=concr.alpha\n",
    "alphac=-concr.alpha\n",
    "alphat=-concr.alpha\n",
    "etan=concr.Ec0\n",
    "\n",
    "extra=''\n",
    "    \n",
    "#con1=stmdl2(ec0,muec1,strnc1,stresc1,et0,muet1,strnt1,pseto,crkso,quad)#pset,crks,\n",
    "con1=stmdl2_KR(ec0,muec1,strnc1,stresc1,et0,muet1,strnt1,pseto,crkso,alphac,alphat)#pset,crks,\n",
    "con1.plot(title=alpha_plot(alphat,alphac,extra),step_size=0.00001,legend=True,ranges=[-0.0005,0.002])\n",
    "#[-0.0005,0.001]  [-.007,.0015]"
   ]
  },
  {
   "cell_type": "code",
   "execution_count": 159,
   "metadata": {},
   "outputs": [
    {
     "data": {
      "image/png": "[encoded data removed]",
      "text/plain": [
       "<Figure size 432x288 with 1 Axes>"
      ]
     },
     "metadata": {
      "needs_background": "light"
     },
     "output_type": "display_data"
    }
   ],
   "source": [
    "quad=concr.alpha\n",
    "alphac=-concr.alpha\n",
    "alphat=concr.alpha\n",
    "con1=stmdl2_KR_SS(ec0,muec1,strnc1,stresc1,et0,muet1,strnt1,pseto,crkso,alphac,alphat)#pset,crks,\n",
    "con1.plot(title=alpha_plot(alphat,alphac,extra),step_size=0.00001,legend=True,ranges=[-.007,.0015])"
   ]
  },
  {
   "cell_type": "code",
   "execution_count": 88,
   "metadata": {},
   "outputs": [
    {
     "name": "stdout",
     "output_type": "stream",
     "text": [
      "y(x) = 3x**2+30x+30\n",
      "y(-4) = -42\n"
     ]
    },
    {
     "ename": "IndexError",
     "evalue": "tuple index out of range",
     "output_type": "error",
     "traceback": [
      "\u001b[1;31m---------------------------------------------------------------------------\u001b[0m",
      "\u001b[1;31mIndexError\u001b[0m                                Traceback (most recent call last)",
      "\u001b[1;32m<ipython-input-88-732a71aaeb02>\u001b[0m in \u001b[0;36m<module>\u001b[1;34m\u001b[0m\n\u001b[0;32m      7\u001b[0m \u001b[0mprint\u001b[0m\u001b[1;33m(\u001b[0m\u001b[1;34m'y(x) = {0}x**2+{1}x+{2}'\u001b[0m\u001b[1;33m.\u001b[0m\u001b[0mformat\u001b[0m\u001b[1;33m(\u001b[0m\u001b[0ma\u001b[0m\u001b[1;33m,\u001b[0m\u001b[0mb\u001b[0m\u001b[1;33m,\u001b[0m\u001b[0mc\u001b[0m\u001b[1;33m)\u001b[0m\u001b[1;33m)\u001b[0m\u001b[1;33m\u001b[0m\u001b[1;33m\u001b[0m\u001b[0m\n\u001b[0;32m      8\u001b[0m \u001b[0mprint\u001b[0m\u001b[1;33m(\u001b[0m\u001b[1;34m'y({0}) = {1}'\u001b[0m\u001b[1;33m.\u001b[0m\u001b[0mformat\u001b[0m\u001b[1;33m(\u001b[0m\u001b[0mx\u001b[0m\u001b[1;33m,\u001b[0m\u001b[0my\u001b[0m\u001b[1;33m)\u001b[0m\u001b[1;33m)\u001b[0m\u001b[1;33m\u001b[0m\u001b[1;33m\u001b[0m\u001b[0m\n\u001b[1;32m----> 9\u001b[1;33m \u001b[0mprint\u001b[0m\u001b[1;33m(\u001b[0m\u001b[1;34m'y\\' = {0}x**2+{1}x+{2}'\u001b[0m\u001b[1;33m.\u001b[0m\u001b[0mformat\u001b[0m\u001b[1;33m(\u001b[0m\u001b[1;36m2\u001b[0m\u001b[1;33m*\u001b[0m\u001b[0ma\u001b[0m\u001b[1;33m*\u001b[0m\u001b[0mx\u001b[0m\u001b[1;33m+\u001b[0m\u001b[0mb\u001b[0m\u001b[1;33m,\u001b[0m\u001b[0my\u001b[0m\u001b[1;33m-\u001b[0m\u001b[1;33m(\u001b[0m\u001b[1;36m2\u001b[0m\u001b[1;33m*\u001b[0m\u001b[0ma\u001b[0m\u001b[1;33m*\u001b[0m\u001b[0my\u001b[0m\u001b[1;33m+\u001b[0m\u001b[0mb\u001b[0m\u001b[1;33m)\u001b[0m\u001b[1;33m*\u001b[0m\u001b[0mx\u001b[0m\u001b[1;33m)\u001b[0m\u001b[1;33m)\u001b[0m\u001b[1;33m\u001b[0m\u001b[1;33m\u001b[0m\u001b[0m\n\u001b[0m",
      "\u001b[1;31mIndexError\u001b[0m: tuple index out of range"
     ]
    }
   ],
   "source": [
    "x=-4\n",
    "a=3\n",
    "b=30\n",
    "c=30\n",
    "y=a*x**2+b*x+c\n",
    "y\n",
    "print('y(x) = {0}x**2+{1}x+{2}'.format(a,b,c))\n",
    "print('y({0}) = {1}'.format(x,y))\n",
    "print('y\\'(x) = {0}x**2+{1}x+{2}'.format(2*a*x+b,y-(2*a*y+b)*x))"
   ]
  },
  {
   "cell_type": "code",
   "execution_count": null,
   "metadata": {},
   "outputs": [],
   "source": []
  },
  {
   "cell_type": "code",
   "execution_count": 76,
   "metadata": {},
   "outputs": [
    {
     "data": {
      "text/plain": [
       "-63.0"
      ]
     },
     "execution_count": 76,
     "metadata": {},
     "output_type": "execute_result"
    }
   ],
   "source": [
    "x0=0\n",
    "E0=30\n",
    "x1=-3\n",
    "E1=0\n",
    "y0=0\n",
    "\n",
    "a=(E0-E1)/2/(x0-x1)\n",
    "b=E0-2*a*x0\n",
    "c=y0-a*x0**2-b*x0\n",
    "\n",
    "x=-3\n",
    "\n",
    "y=a*x**2+b*x+c\n",
    "y"
   ]
  },
  {
   "cell_type": "code",
   "execution_count": 79,
   "metadata": {},
   "outputs": [
    {
     "data": {
      "text/plain": [
       "-63.0"
      ]
     },
     "execution_count": 79,
     "metadata": {},
     "output_type": "execute_result"
    }
   ],
   "source": [
    "z=(E0-E1)/(x0-x1)\n",
    "\n",
    "y=y0+z*(x**2/2-x0*x-x0**2-x0)+E0*(x-x0)\n",
    "y"
   ]
  },
  {
   "cell_type": "code",
   "execution_count": null,
   "metadata": {},
   "outputs": [],
   "source": []
  },
  {
   "cell_type": "code",
   "execution_count": 358,
   "metadata": {},
   "outputs": [
    {
     "data": {
      "text/plain": [
       "0.00012"
      ]
     },
     "execution_count": 358,
     "metadata": {},
     "output_type": "execute_result"
    }
   ],
   "source": [
    "concr.epsilon_1t"
   ]
  },
  {
   "cell_type": "code",
   "execution_count": 348,
   "metadata": {},
   "outputs": [
    {
     "data": {
      "text/plain": [
       "0.001"
      ]
     },
     "execution_count": 348,
     "metadata": {},
     "output_type": "execute_result"
    }
   ],
   "source": [
    "concr.epsilon_2t"
   ]
  },
  {
   "cell_type": "code",
   "execution_count": null,
   "metadata": {},
   "outputs": [],
   "source": []
  },
  {
   "cell_type": "code",
   "execution_count": 542,
   "metadata": {},
   "outputs": [
    {
     "name": "stdout",
     "output_type": "stream",
     "text": [
      "zero\n",
      "zero\n",
      "zero\n",
      "zero\n"
     ]
    },
    {
     "data": {
      "image/png": "[encoded data removed]",
      "text/plain": [
       "<Figure size 432x288 with 1 Axes>"
      ]
     },
     "metadata": {
      "needs_background": "light"
     },
     "output_type": "display_data"
    }
   ],
   "source": [
    "concr = mat.con1('C50', 50, 250, epsilon_t2 = 0.001, fc2_factor = 0.05, characteristic = True,plotting=False,)\n",
    "\n",
    "strn=-0.0002\n",
    "\n",
    "ec0=concr.Ec1\n",
    "muec1=concr.Ec2\n",
    "et0=concr.Et1\n",
    "muet1=concr.Et2\n",
    "\n",
    "strnt1=concr.epsilon_1t\n",
    "#strnc0=-concr.epsilon_1c\n",
    "strnc1=-concr.epsilon_2c\n",
    "\n",
    "stresc1=-concr.fc2\n",
    "#strnt2=concr.epsilon_2t\n",
    "\n",
    "pseto=-0.0005#-0.0005\n",
    "crkso=0#0.0002\n",
    "\n",
    "quad=concr.alpha\n",
    "etan=concr.Ec0\n",
    "\n",
    "#con1=stmdl2(ec0,muec1,strnc1,stresc1,et0,muet1,strnt1,pseto,crkso,quad)#pset,crks,\n",
    "con1=stmdl2(ec0,muec1,strnc1,stresc1,et0,muet1,strnt1,pseto,crkso,quad)#pset,crks,\n",
    "con1.stress(strn)\n",
    "con1.stres\n",
    "con1.plot(title='C50, alphat<0',step_size=0.0001,legend=True,ranges=[-0.007,0.001])#[0,0.001]"
   ]
  },
  {
   "cell_type": "code",
   "execution_count": 229,
   "metadata": {},
   "outputs": [
    {
     "data": {
      "text/plain": [
       "-5100"
      ]
     },
     "execution_count": 229,
     "metadata": {},
     "output_type": "execute_result"
    }
   ],
   "source": [
    "con1.muet1"
   ]
  },
  {
   "cell_type": "code",
   "execution_count": 214,
   "metadata": {},
   "outputs": [
    {
     "data": {
      "text/plain": [
       "-8517.0"
      ]
     },
     "execution_count": 214,
     "metadata": {},
     "output_type": "execute_result"
    }
   ],
   "source": [
    "con1.muet1t"
   ]
  },
  {
   "cell_type": "code",
   "execution_count": 221,
   "metadata": {},
   "outputs": [
    {
     "data": {
      "text/plain": [
       "0.0006638534695315253"
      ]
     },
     "execution_count": 221,
     "metadata": {},
     "output_type": "execute_result"
    }
   ],
   "source": [
    "con1.strnt2"
   ]
  },
  {
   "cell_type": "code",
   "execution_count": 268,
   "metadata": {},
   "outputs": [
    {
     "name": "stdout",
     "output_type": "stream",
     "text": [
      "con1.strnt0 =  0.0001859574468085107\n",
      "con1.strnt1 =  0.00012\n",
      "con1.strnt2 =  0.0010282352941176473\n"
     ]
    }
   ],
   "source": [
    "print('con1.strnt0 = ',con1.strnt0)\n",
    "print('con1.strnt1 = ',con1.strnt1)\n",
    "print('con1.strnt2 = ',con1.strnt2)"
   ]
  },
  {
   "cell_type": "code",
   "execution_count": null,
   "metadata": {},
   "outputs": [],
   "source": [
    "con1.strnt2"
   ]
  },
  {
   "cell_type": "code",
   "execution_count": 240,
   "metadata": {},
   "outputs": [
    {
     "data": {
      "text/plain": [
       "0.0005741176470588237"
      ]
     },
     "execution_count": 240,
     "metadata": {},
     "output_type": "execute_result"
    }
   ],
   "source": [
    "(con1.strnt1+con1.strnt2)/2"
   ]
  },
  {
   "cell_type": "code",
   "execution_count": null,
   "metadata": {},
   "outputs": [],
   "source": []
  },
  {
   "cell_type": "code",
   "execution_count": 148,
   "metadata": {},
   "outputs": [
    {
     "name": "stdout",
     "output_type": "stream",
     "text": [
      "stres -48.50397513400011\n",
      "stresc1 -2.5\n",
      "stresl -48.50397513400011\n",
      "epsilon_1c 0.00216\n"
     ]
    }
   ],
   "source": [
    "con1.stress(-0.002)\n",
    "print('stres',con1.stres)\n",
    "#print('strnc0',con1.strnc0)\n",
    "print('stresc1',con1.stresc1)\n",
    "print('stresl',con1.stresl)\n",
    "print('epsilon_1c',concr.epsilon_1c)"
   ]
  },
  {
   "cell_type": "code",
   "execution_count": null,
   "metadata": {},
   "outputs": [],
   "source": []
  },
  {
   "cell_type": "code",
   "execution_count": 6,
   "metadata": {},
   "outputs": [
    {
     "name": "stdout",
     "output_type": "stream",
     "text": [
      "ec0= 21500\n",
      "muec1= -6300\n",
      "et0= 35800\n",
      "muet1= -4400\n",
      "strnt1= 0.00011\n",
      "strnc0= 0.00178\n",
      "strnc1= 0.00751\n",
      "stresc1= 1.9\n",
      "strnt2= 0.00011\n",
      "pseto= 0.00751\n",
      "crkso= 0.00011\n",
      "pset= 0.00751\n",
      "crks= 0.00011\n",
      "quad= 0.67\n",
      "etan= 35800\n"
     ]
    }
   ],
   "source": [
    "print('ec0=',concr.Ec1)\n",
    "print('muec1=',concr.Ec2)\n",
    "print('et0=',concr.Et1)\n",
    "print('muet1=',concr.Et2)\n",
    "print('strnt1=',concr.epsilon_1t)\n",
    "print('strnc0=',concr.epsilon_1c)\n",
    "print('strnc1=',concr.epsilon_2c)\n",
    "print('stresc1=',concr.fc2)\n",
    "print('strnt2=',concr.epsilon_1t)\n",
    "print('pseto=',concr.epsilon_2c)\n",
    "print('crkso=',concr.epsilon_1t)\n",
    "print('pset=',concr.epsilon_2c)\n",
    "print('crks=',concr.epsilon_1t)\n",
    "print('quad=',concr.alpha)\n",
    "print('etan=',concr.Ec0)"
   ]
  },
  {
   "cell_type": "code",
   "execution_count": null,
   "metadata": {},
   "outputs": [],
   "source": []
  },
  {
   "cell_type": "code",
   "execution_count": 158,
   "metadata": {},
   "outputs": [],
   "source": [
    "class stmdl2_KR_SS:\n",
    "    # this is con1 ADAPTIC model\n",
    "    def __init__(self,ec0,muec1,strnc1,stresc1,et0,muet1,strnt1,pset,crks,alphac,alphat):#pseto,crkso,\n",
    "        # This subroutine calculates the stress at a monitoring point for\n",
    "        # material MODEL(2).\n",
    "\n",
    "        # Establish the stress depending on the sign of the applied\n",
    "        # strain relative to the initial plastic set and crack strain\n",
    "        self.ec0=ec0 # Secant compressive stiffness\n",
    "        self.muec1=muec1 # Compressive softening stiffness\n",
    "        self.strnc1=strnc1 # strain at residual compressive strength \n",
    "        self.stresc1=stresc1 # residual compressive strength \n",
    "        self.et0=et0 # Tensile stiffness\n",
    "        self.muet1=muet1 # Tensile softening stiffness\n",
    "        self.strnt1=strnt1 # strain at peak tensile strength ?\n",
    "        self.pseto=pseto # plastic strain in compression at the start of the step, \n",
    "                         # represents the intersection of the unloading branch with the strain axis\n",
    "        self.crkso=crkso # plastic strain in tension at the start of the step\n",
    "        self.pset=pseto\n",
    "        self.crks=crkso\n",
    "        self.alphac=alphac\n",
    "        self.alphat=alphat\n",
    "        \n",
    "    def stress(self, strn):\n",
    "        self.strn=strn\n",
    "        if(self.strn<=self.pseto):      # Compressive strain increment\n",
    "            # NOTE: quad is the relative difference between the initial\n",
    "            #       compressive tangent modulus and the secant modulus\n",
    "\n",
    "            self.ec0t=(1+np.absolute(self.alphac))*self.ec0 # initial tangent modulus in compression\n",
    "\n",
    "            if(self.alphac!=0): # implies quadratic initial compressive response \n",
    "                # if plastic response occured: ??\n",
    "                self.strnc0=(self.stresc1-self.muec1*self.strnc1)/(self.ec0-self.muec1)\n",
    "                \n",
    "            # Obtain the stress assuming elastic conditions, and determine\n",
    "            # the force from the limiting curve\n",
    "            self.strese=self.ec0t*(self.strn-self.pseto) # elastic stress based on ec0t\n",
    "            # this gives stress in intial compressive response if quad = 0\n",
    "\n",
    "            if(self.alphac!=0 and self.strn>self.strnc0): # initial quadratic response\n",
    "                # range: pseto>=strn>strnc0\n",
    "\n",
    "                #quadratic formulation for stress:\n",
    "                self.stresl=self.strn*(self.ec0t+(self.ec0-self.ec0t)*self.strn/self.strnc0)\n",
    "                self.etan=self.ec0t+2*(self.ec0-self.ec0t)*self.strn/self.strnc0\n",
    "\n",
    "            elif(self.alphac<0 and self.strn>self.strnc1): # softening branch\n",
    "                # quadratic formulation for stress:\n",
    "                if (self.strn<(self.strnc0+self.strnc1)/2):\n",
    "                    self.stresl=self.stresc1-2*(self.strnc1-self.strn)**2*self.muec1/(self.strnc1-self.strnc0)\n",
    "                    self.etan=self.ec0t+2*(self.ec0-self.ec0t)*self.strn/self.strnc0\n",
    "                \n",
    "                else:\n",
    "                    self.stresl=self.strnc0*self.ec0+2*(self.strn-self.strnc0)**2*self.muec1/(self.strnc1-self.strnc0)\n",
    "                    self.etan=2*self.ec0*(self.strn-self.strnc0)/(self.strnc0+self.strnc1)/2\n",
    "                \n",
    "            elif(self.strn>self.strnc1): # softening branch\n",
    "                self.stresl=self.stresc1+self.muec1*(self.strn-self.strnc1)\n",
    "                self.etan=self.muec1\n",
    "\n",
    "            else: # residual compressive strength\n",
    "\n",
    "                self.stresl=self.stresc1\n",
    "                self.etan=0.0\n",
    "\n",
    "            # Establish the stress and the plastic set\n",
    "\n",
    "            if(self.strese>self.stresl):\n",
    "\n",
    "                self.stres=self.strese\n",
    "                self.pset=self.pseto\n",
    "                self.etan=self.ec0t\n",
    "\n",
    "            else:\n",
    "\n",
    "                self.stres=self.stresl\n",
    "                self.pset=self.strn-self.stresl/self.ec0t\n",
    "\n",
    "            self.crks=self.crkso\n",
    "\n",
    "        elif(self.et0==0.0 or self.strn<self.crkso+self.pseto):   # Cracked zone\n",
    "\n",
    "            self.stres=0.0\n",
    "            self.pset=self.pseto\n",
    "            self.crks=self.crkso\n",
    "            self.etan=0\n",
    "\n",
    "        else:   # Tensile strain increment\n",
    "\n",
    "            # Obtain the stress assuming elastic conditions, and\n",
    "            # determine the force from the limiting curve\n",
    "            if(self.alphat!=0):\n",
    "                self.strest0=self.et0*self.strnt1\n",
    "                self.strnt2=self.strnt1-self.strest0/self.muet1\n",
    "                if(self.alphat<0): # implies quadratic initial compressive response \n",
    "                    self.muet1t=-self.alphat*self.muet1+self.muet1\n",
    "                elif(self.alphat>0): # implies quadratic initial compressive response \n",
    "                    self.et0t=self.alphat*self.et0+self.et0\n",
    "            \n",
    "            self.strese=self.et0*(self.strn-(self.pseto+self.crkso))\n",
    "\n",
    "            self.stresl=self.muet1*(self.strn-(self.pseto+self.strnt1))+self.et0*self.strnt1  # my modification\n",
    "\n",
    "            if(self.stresl>0.0):\n",
    "\n",
    "                self.etan=self.muet1\n",
    "\n",
    "            else: # 'if ultimate tensile strain is exceeded'\n",
    "                self.stresl=0.0\n",
    "                self.etan=0.0\n",
    "\n",
    "            # Establish the stress and the plastic set\n",
    "\n",
    "            if(self.strese<self.stresl): \n",
    "                # initial elastic tensile response\n",
    "                if (alphat>0): # quadratic formulation for stress\n",
    "                    self.stresq=self.strn*(self.et0t+(self.et0-self.et0t)*self.strn/self.strnt1)\n",
    "                    self.strese=self.et0t*(self.strn-(self.pseto+self.crkso))\n",
    "                    if (self.stresq<self.strese):\n",
    "                        self.stres=self.stresq\n",
    "                        #self.etan=self.et0\n",
    "                    else:\n",
    "                        self.stres=self.strese\n",
    "                        self.etan=self.et0\n",
    "                else:\n",
    "                    self.stres=self.strese\n",
    "                    self.etan=self.et0\n",
    "                self.crks=self.crkso\n",
    "            else: # tensile softening\n",
    "                if (alphat<0 and (self.strn-self.pseto)<self.strnt2): # quadratic formulation for stress\n",
    "                    self.strest0=self.et0*self.strnt1\n",
    "                    self.strnt2=self.strnt1-self.strest0/self.muet1\n",
    "                    self.stresl=self.strest0+(self.strn-self.strnt1)*(self.muet1t+(self.muet1-self.muet1t)*(self.strn-self.strnt1)/(self.strnt2-self.strnt1))\n",
    "                elif (alphat>0 and (self.strn-self.pseto)<self.strnt2): # quadratic formulation for stress\n",
    "                    self.strest0=self.et0*self.strnt1\n",
    "                    self.strnt2=self.strnt1-self.strest0/self.muet1\n",
    "                    if (self.strn>(self.strnt1+self.strnt2)/2):\n",
    "                        self.stresl=-2*(self.strnt2-self.strn)**2*self.muet1/(self.strnt2-self.strnt1)\n",
    "                        #self.etan=self.ec0t+2*(self.ec0-self.ec0t)*self.strn/self.strnc0\n",
    "                    else:\n",
    "                        self.stresl=self.strest0+2*(self.strn-self.strnt1)**2*self.muet1/(self.strnt2-self.strnt1)\n",
    "                        #self.etan=2*self.ec0*(self.strn-self.strnc0)/(self.strnc0+self.strnc1)/2\n",
    "                self.stres=self.stresl\n",
    "                self.crks=self.strn-self.pseto-self.stresl/self.et0\n",
    "\n",
    "        self.pset=self.pseto\n",
    "\n",
    "        return self.stres\n",
    "\n",
    "    def plot(self,title='stmdl2',step_size=0.001,legend=True,ranges=''):\n",
    "        if ranges=='':ranges=[-np.absolute(self.strnc1),np.absolute(self.strnt1)]\n",
    "        strain=np.arange(ranges[0],ranges[1],step_size)\n",
    "        stress=np.array([self.stress(i) for i in strain])\n",
    "        strain=strain.reshape(len(strain),1)\n",
    "        stress=stress.reshape(len(stress),1)\n",
    "        self.df=pd.DataFrame(np.hstack((stress,strain)),columns=['stress','strain'])\n",
    "        self.np=plotStress(self,self.df,lbl=\"stmdl2\",plotting='True',title=title,legend=legend)\n",
    "        self.np=np.array(self.np)"
   ]
  },
  {
   "cell_type": "code",
   "execution_count": 541,
   "metadata": {},
   "outputs": [],
   "source": [
    "class stmdl2:\n",
    "    # this is con1 ADAPTIC model\n",
    "    def __init__(self,ec0,muec1,strnc1,stresc1,et0,muet1,strnt1,pset,crks,quad):#pseto,crkso,\n",
    "        # This subroutine calculates the stress at a monitoring point for\n",
    "        # material MODEL(2).\n",
    "\n",
    "        # Establish the stress depending on the sign of the applied\n",
    "        # strain relative to the initial plastic set and crack strain\n",
    "        self.ec0=ec0 # Secant compressive stiffness\n",
    "        self.muec1=muec1 # Compressive softening stiffness\n",
    "        self.strnc1=strnc1 # strain at residual compressive strength \n",
    "        self.stresc1=stresc1 # residual compressive strength \n",
    "        self.et0=et0 # Tensile stiffness\n",
    "        self.muet1=muet1 # Tensile softening stiffness\n",
    "        self.strnt1=strnt1 # strain at peak tensile strength ?\n",
    "        self.pseto=pseto # plastic strain in compression at the start of the step, \n",
    "                         # represents the intersection of the unloading branch with the strain axis\n",
    "        self.crkso=crkso # plastic strain in tension at the start of the step\n",
    "        self.pset=pseto\n",
    "        self.crks=crkso\n",
    "        self.quad=quad\n",
    "        \n",
    "    def stress(self, strn):\n",
    "        self.strn=strn\n",
    "        if(self.strn<=self.pseto):      # Compressive strain increment\n",
    "            # NOTE: quad is the relative difference between the initial\n",
    "            #       compressive tangent modulus and the secant modulus\n",
    "\n",
    "            self.ec0t=(1+self.quad)*self.ec0 # initial tangent modulus in compression\n",
    "\n",
    "            if(self.quad>0): # implies quadratic initial compressive response \n",
    "                self.strnc0=(self.stresc1-self.muec1*self.strnc1)/(self.ec0-self.muec1)\n",
    "\n",
    "            # Obtain the stress assuming elastic conditions, and determine\n",
    "            # the force from the limiting curve\n",
    "            self.strese=self.ec0t*(self.strn-self.pseto) # elastic stress based on ec0t\n",
    "            # this gives stress in intial compressive response if quad = 0\n",
    "\n",
    "            if(self.quad>0 and self.strn>self.strnc0): # initial quadratic response\n",
    "                # pseto>=strn>strnc0\n",
    "\n",
    "                #quadratic formulation for stress:\n",
    "                self.stresl=self.strn*(self.ec0t+(self.ec0-self.ec0t)*self.strn/self.strnc0)\n",
    "                self.etan=self.ec0t+2*(self.ec0-self.ec0t)*self.strn/self.strnc0\n",
    "\n",
    "            elif(strn>strnc1): # softening branch\n",
    "\n",
    "                self.stresl=self.stresc1+self.muec1*(self.strn-self.strnc1)\n",
    "                self.etan=self.muec1\n",
    "\n",
    "            else: # residual compressive strength\n",
    "\n",
    "                self.stresl=self.stresc1\n",
    "                self.etan=0.0\n",
    "\n",
    "            # Establish the stress and the plastic set\n",
    "\n",
    "            if(self.strese>self.stresl):\n",
    "\n",
    "                self.stres=self.strese\n",
    "                self.pset=self.pseto\n",
    "                self.etan=self.ec0t\n",
    "\n",
    "            else:\n",
    "\n",
    "                self.stres=self.stresl\n",
    "                self.pset=self.strn-self.stresl/self.ec0t\n",
    "\n",
    "            self.crks=self.crkso\n",
    "\n",
    "        elif(self.et0==0.0 or self.strn<self.crkso+self.pseto):   # Cracked zone\n",
    "            self.stres=0.0\n",
    "            self.pset=self.pseto\n",
    "            self.crks=self.crkso\n",
    "            self.etan=0\n",
    "\n",
    "        else:   # Tensile strain increment\n",
    "\n",
    "            # Obtain the stress assuming elastic conditions, and\n",
    "            # determine the force from the limiting curve\n",
    "\n",
    "            self.strese=self.et0*(self.strn-(self.pseto+self.crkso))\n",
    "\n",
    "            self.stresl=self.muet1*(self.strn-(self.pseto+self.strnt1))+self.et0*self.strnt1\n",
    "\n",
    "            if(self.stresl>0.0):\n",
    "\n",
    "                self.etan=self.muet1\n",
    "\n",
    "            else:\n",
    "                \n",
    "                self.stresl=0.0\n",
    "                self.etan=0.0\n",
    "\n",
    "            # Establish the stress and the plastic set\n",
    "\n",
    "            if(self.strese<self.stresl): # initial elastic tensile response\n",
    "\n",
    "                self.stres=self.strese\n",
    "                self.etan=self.et0\n",
    "                self.crks=self.crkso\n",
    "\n",
    "            else: # tensile softening\n",
    "\n",
    "                self.stres=self.stresl\n",
    "                self.crks=self.strn-self.pseto-self.stresl/self.et0\n",
    "\n",
    "            self.pset=self.pseto\n",
    "        return self.stres\n",
    "\n",
    "    def plot(self,title='stmdl2',step_size=0.001,legend=True,ranges=''):\n",
    "        if ranges=='':ranges=[-np.absolute(self.strnc1),np.absolute(self.strnt1)]\n",
    "        strain=np.arange(ranges[0],ranges[1],step_size)\n",
    "        stress=np.array([self.stress(i) for i in strain])\n",
    "        strain=strain.reshape(len(strain),1)\n",
    "        stress=stress.reshape(len(stress),1)\n",
    "        self.df=pd.DataFrame(np.hstack((stress,strain)),columns=['stress','strain'])\n",
    "        self.np=plotStress(self,self.df,lbl=\"stmdl2\",plotting='True',title=title,legend=legend)\n",
    "        self.np=np.array(self.np)"
   ]
  },
  {
   "cell_type": "code",
   "execution_count": null,
   "metadata": {},
   "outputs": [],
   "source": []
  },
  {
   "cell_type": "code",
   "execution_count": null,
   "metadata": {},
   "outputs": [],
   "source": []
  },
  {
   "cell_type": "markdown",
   "metadata": {},
   "source": [
    "## Define geometry"
   ]
  },
  {
   "cell_type": "markdown",
   "metadata": {},
   "source": [
    "## Define materials\n",
    "\n",
    "Refer to _materials.ipynb_ to learn how the material properties were defined for the D-Frame system."
   ]
  },
  {
   "cell_type": "markdown",
   "metadata": {},
   "source": [
    "### Concrete"
   ]
  },
  {
   "cell_type": "code",
   "execution_count": 54,
   "metadata": {},
   "outputs": [
    {
     "data": {
      "image/png": "[encoded data removed]",
      "text/plain": [
       "<Figure size 432x288 with 1 Axes>"
      ]
     },
     "metadata": {
      "needs_background": "light"
     },
     "output_type": "display_data"
    }
   ],
   "source": [
    "concr = mat.con1('concr', 38.2, 250, epsilon_t2 = 0.001, fc2_factor = 0.05, characteristic = True,title='test_con1_standard ')"
   ]
  },
  {
   "cell_type": "code",
   "execution_count": null,
   "metadata": {},
   "outputs": [],
   "source": [
    "conMat = mat.con1('concrete', 16, 250, epsilon_t2 = 0.001, fc2_factor = 0.05, title=\"test_con1_plastic\", ft_factor = 0.1/2.5, characteristic = True,Ec2=-1E+1, Et2='',legend=False)"
   ]
  },
  {
   "cell_type": "code",
   "execution_count": null,
   "metadata": {},
   "outputs": [],
   "source": [
    "conMat = mat.con1('C50_60', 50, 250, epsilon_t2 = 0.001, fc2_factor = 0.05, ft_factor = 0.5, \n",
    "                 characteristic = False, plotting=True,title=\"C50/60\")"
   ]
  },
  {
   "cell_type": "code",
   "execution_count": null,
   "metadata": {},
   "outputs": [],
   "source": [
    "conMat.data_frame()"
   ]
  },
  {
   "cell_type": "code",
   "execution_count": null,
   "metadata": {},
   "outputs": [],
   "source": [
    "# conMat = mat.stl1('concrete stl1', 11111, 15, 15, 0.0035,title=\"Concrete\",plotting=True,tension=False)\n",
    "# # conMat = mat.EC2con('concrete EC2', 30*0.85/1.5, 0.0035,plotting=True,title=\"Concrete\",tension=False)\n",
    "# conMat.data_frame()"
   ]
  },
  {
   "cell_type": "markdown",
   "metadata": {},
   "source": [
    "### Reinforcement"
   ]
  },
  {
   "cell_type": "code",
   "execution_count": null,
   "metadata": {},
   "outputs": [],
   "source": [
    "reinfMat = mat.stl1('reinforcement', 205000, 500, 560, 0.075,title=\"Reinforcement\",plotting=True,tension=True)\n",
    "reinfMat.data_frame()"
   ]
  },
  {
   "cell_type": "markdown",
   "metadata": {},
   "source": [
    "## Define sections"
   ]
  },
  {
   "cell_type": "code",
   "execution_count": null,
   "metadata": {},
   "outputs": [],
   "source": [
    "cover = 30+12\n",
    "reinf_sect = [[3, 25, 750-cover-25/2],[4,25,cover+25/2]]\n",
    "section=sect.rcts(190,560,650,340,reinf_sect)\n",
    "section.reinf_sect"
   ]
  },
  {
   "cell_type": "code",
   "execution_count": null,
   "metadata": {},
   "outputs": [],
   "source": [
    "reinf_sect = [[3, 25, 750-cover-25/2], [4, 25, cover+25/2], [2, 40, 750-120], [2, 40, 90]]\n",
    "section=sect.rcts(190,560,650,340,reinf_sect)\n",
    "section.reinf_sect"
   ]
  },
  {
   "cell_type": "code",
   "execution_count": null,
   "metadata": {},
   "outputs": [],
   "source": [
    "# reinf_sect = [[2, 20, 40],[2,20,260]]\n",
    "# section=sect.rss(300,300,reinf_sect, plotting = True)"
   ]
  },
  {
   "cell_type": "code",
   "execution_count": null,
   "metadata": {},
   "outputs": [],
   "source": [
    "# reinf_sect = [[5, 32, 600],[2,25,50]]\n",
    "# section=sect.rss(500,650,reinf_sect, plotting = True)"
   ]
  },
  {
   "cell_type": "markdown",
   "metadata": {},
   "source": [
    "## Strains and stresses within section\n",
    "\n",
    "Positive moment indicates compression close to 0 x-coordinate and tension in the most furthest fibre on the x-axis."
   ]
  },
  {
   "cell_type": "code",
   "execution_count": null,
   "metadata": {},
   "outputs": [],
   "source": [
    "MNclass=rc.MNclass(conMat,reinfMat,section)"
   ]
  },
  {
   "cell_type": "code",
   "execution_count": null,
   "metadata": {},
   "outputs": [],
   "source": [
    "# f_tot,m_tot=MNclass.calc(eps0=-0.0035,epsH=0.0022, plotting=True,n_layers=800)\n",
    "# f_tot,m_tot=MNclass.calcX0(eps0=-0.0035,x_NA=218.5, plotting=True,n_layers=1000)\n",
    "f_tot,m_tot=MNclass.calcXH(epsH=-0.0035,x_NA=90, plotting=True,n_layers=800)"
   ]
  },
  {
   "cell_type": "markdown",
   "metadata": {},
   "source": [
    "## MN cuve"
   ]
  },
  {
   "cell_type": "code",
   "execution_count": null,
   "metadata": {},
   "outputs": [],
   "source": [
    "F_Ed = -6000 # kN\n",
    "M_Ed = 1000 # kNm\n",
    "mnInteraction = MNclass.mnCurve(xRatio=[0.05,0.16,0.2,0.3,0.4,0.5,0.6,0.7,0.8,0.9,1,1.3,2,5,1E99],n_layers=100,epsU=-0.0035,reverseMoment=False,F_Ed=F_Ed,M_Ed=M_Ed)"
   ]
  },
  {
   "cell_type": "code",
   "execution_count": null,
   "metadata": {},
   "outputs": [],
   "source": [
    "# Find exact moments at given axial load\n",
    "axial = 0\n",
    "find = utils.findExactPoint(np.array(mnInteraction).T,0,limY=False, multiple=True)\n",
    "print('Exact moment at axial load axial {} kN are {} kNm and {} kNm'.format(axial,int(find[1][0]),int(find[1][1])))"
   ]
  },
  {
   "cell_type": "markdown",
   "metadata": {},
   "source": [
    "### Load Response2000\n",
    "\n",
    "Read Response2000 csv file."
   ]
  },
  {
   "cell_type": "code",
   "execution_count": null,
   "metadata": {},
   "outputs": [],
   "source": [
    "F_Ed = 0\n",
    "M_Ed = 1484\n",
    "path = \"assets/Response2K/JPSect.csv\"\n",
    "mnInteraction = MNclass.mnCurve(xRatio=[0.05,0.16,0.2,0.3,0.4,0.5,0.6,0.7,0.8,0.9,1,1.3,2,5,1E99],n_layers=100,epsU=-0.0035,reverseMoment=True,F_Ed=F_Ed,M_Ed=M_Ed,r2kPath=path,legend=True)"
   ]
  },
  {
   "cell_type": "code",
   "execution_count": null,
   "metadata": {},
   "outputs": [],
   "source": []
  }
 ],
 "metadata": {
  "kernelspec": {
   "display_name": "Python 3",
   "language": "python",
   "name": "python3"
  },
  "language_info": {
   "codemirror_mode": {
    "name": "ipython",
    "version": 3
   },
   "file_extension": ".py",
   "mimetype": "text/x-python",
   "name": "python",
   "nbconvert_exporter": "python",
   "pygments_lexer": "ipython3",
   "version": "3.7.6"
  }
 },
 "nbformat": 4,
 "nbformat_minor": 4
}
