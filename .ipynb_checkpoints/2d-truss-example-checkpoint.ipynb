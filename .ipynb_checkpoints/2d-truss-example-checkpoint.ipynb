{
 "cells": [
  {
   "cell_type": "markdown",
   "metadata": {},
   "source": [
    "# 2D Truss Example\n",
    "\n",
    "The figure below shows a truss consisting of 3 bars connected. An external force $F = 100 kN$ is applied at node 1 in the\n",
    "vertical direction. The cross-sectional area and Young’s modulus of the bars (1), (2) and (3) are given, respectively,\n",
    "as follows: $A_1 = 0.01 m^{2}$, $A_2 = 0.02 m^{2}$ and $A_3 = 0.01 m^{2}$; and $E_1 = E_2 = E_3 = 30x10^{9} N/m^{2}$.\n",
    "\n",
    "<img src=\"assets/images/2D_truss_example1.png\" width=\"400\"/>"
   ]
  },
  {
   "cell_type": "code",
   "execution_count": 1,
   "metadata": {},
   "outputs": [],
   "source": [
    "import sys\n",
    "sys.path.insert(1, 'libraries')\n",
    "import fea"
   ]
  },
  {
   "cell_type": "markdown",
   "metadata": {},
   "source": [
    "## Input data\n",
    "Define the input data."
   ]
  },
  {
   "cell_type": "code",
   "execution_count": 2,
   "metadata": {},
   "outputs": [],
   "source": [
    "materials=[['mat1',30E+9]]\n",
    "sections=[['section 1',0.01],['section 2',0.02]]\n",
    "nodes=[['node 1', 3, 0],['node 2', 0, 0],['node 3', 0, 4]]\n",
    "elements=[['element 1','node 2','node 3','section 1','mat1'],\n",
    "          ['element 2','node 1','node 3','section 2','mat1'],\n",
    "          ['element 3','node 1','node 2','section 1','mat1']]\n",
    "restraints=[['node 2',1,1],['node 3',1,0]]\n",
    "forces=[['node 1',0,-1E+5]]"
   ]
  },
  {
   "cell_type": "markdown",
   "metadata": {},
   "source": [
    "## Solve"
   ]
  },
  {
   "cell_type": "code",
   "execution_count": 4,
   "metadata": {},
   "outputs": [
    {
     "data": {
      "image/png": "[encoded data removed]",
      "text/plain": [
       "<Figure size 288x288 with 1 Axes>"
      ]
     },
     "metadata": {
      "needs_background": "light"
     },
     "output_type": "display_data"
    },
    {
     "data": {
      "image/png": "[encoded data removed]",
      "text/plain": [
       "<Figure size 288x288 with 2 Axes>"
      ]
     },
     "metadata": {
      "needs_background": "light"
     },
     "output_type": "display_data"
    }
   ],
   "source": [
    "truss=fea.truss2d(materials,sections,nodes,elements,restraints,forces)\n",
    "truss.solve()\n",
    "truss.plot_deformed(disp_magn=50,title='deformed shape',markersize=10,grid=False,figsize=(4,4))\n",
    "truss.plot_var(var=\"axial\",disp_magn=10,title='axial loads [kN]',markersize=10,grid=False,scale=1E-3,figsize=(4,4))"
   ]
  },
  {
   "cell_type": "code",
   "execution_count": null,
   "metadata": {},
   "outputs": [],
   "source": []
  },
  {
   "cell_type": "code",
   "execution_count": null,
   "metadata": {},
   "outputs": [],
   "source": []
  }
 ],
 "metadata": {
  "kernelspec": {
   "display_name": "Python 3",
   "language": "python",
   "name": "python3"
  },
  "language_info": {
   "codemirror_mode": {
    "name": "ipython",
    "version": 3
   },
   "file_extension": ".py",
   "mimetype": "text/x-python",
   "name": "python",
   "nbconvert_exporter": "python",
   "pygments_lexer": "ipython3",
   "version": "3.7.6"
  }
 },
 "nbformat": 4,
 "nbformat_minor": 4
}
