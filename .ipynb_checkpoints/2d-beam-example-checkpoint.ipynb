{
 "cells": [
  {
   "cell_type": "markdown",
   "metadata": {},
   "source": [
    "# 2d beam example"
   ]
  },
  {
   "cell_type": "code",
   "execution_count": 1,
   "metadata": {},
   "outputs": [],
   "source": [
    "import sys\n",
    "sys.path.insert(1, 'libraries')\n",
    "import fea\n",
    "# import utils\n",
    "# import numpy as np\n",
    "# import pandas as pd\n",
    "# from numpy.linalg import inv\n",
    "# from numpy.linalg import multi_dot\n",
    "# import pandas as pd\n",
    "# import matplotlib as mpl\n",
    "# import matplotlib.pyplot as plt"
   ]
  },
  {
   "cell_type": "code",
   "execution_count": 2,
   "metadata": {},
   "outputs": [],
   "source": [
    "# materials=[['mat1',2E+9]]\n",
    "# sections=[['section 1',0.2,4E+6/2E+9],['section 2',0.2,8E+6/2E+9]]\n",
    "# nodes=[['node 1', 0, 0],['node 2', 3, 0],['node 3', 6, 0],['node 4', 12, 0]]\n",
    "# elements=[['element 1','node 1','node 2','section 1','mat1'],\n",
    "#           ['element 2','node 2','node 3','section 1','mat1'],\n",
    "#           ['element 3','node 3','node 4','section 2','mat1']]\n",
    "# restraints=[['node 1',1,1,1],['node 3',0,1,0],['node 4',0,1,0]]\n",
    "# forces_nodes=[['node 2',0,-1.6E+4,0]]\n",
    "# forces_distributed=None\n",
    "# forces_distributed=[['element 3',-1E+4,-1E+4]]"
   ]
  },
  {
   "cell_type": "code",
   "execution_count": 3,
   "metadata": {},
   "outputs": [],
   "source": [
    "# D-Frame\n",
    "materials=[['mat1',2E+9]]\n",
    "sections=[['section 1',0.2,4E+6/2E+9]]\n",
    "nodes=[['node 1', 0, 0],['node 2', 4.5, 0],['node 3', 9, 0],['node 4', 13.5, 0],['node 5', 18, 0],\n",
    "      ['node 6', 22.5, 0],['node 7', 27, 0],['node 8', 31.5, 0],['node 9', 36, 0]]\n",
    "elements=[['element 1','node 1','node 2','section 1','mat1'],\n",
    "          ['element 2','node 2','node 3','section 1','mat1'],\n",
    "          ['element 3','node 3','node 4','section 1','mat1'],\n",
    "          ['element 4','node 4','node 5','section 1','mat1'],\n",
    "          ['element 5','node 5','node 6','section 1','mat1'],\n",
    "          ['element 6','node 6','node 7','section 1','mat1'],\n",
    "          ['element 7','node 7','node 8','section 1','mat1'],\n",
    "          ['element 8','node 8','node 9','section 1','mat1']]\n",
    "restraints=[['node 1',1,1,0],['node 3',1,1,0],['node 5',1,1,0],['node 7',1,1,0],['node 9',1,1,0]]\n",
    "forces_nodes=None\n",
    "forces_distributed=None\n",
    "forces_distributed=[['element '+str(i+1),-181E+3,-181E+3] for i in range(len(elements))]"
   ]
  },
  {
   "cell_type": "code",
   "execution_count": 4,
   "metadata": {},
   "outputs": [],
   "source": [
    "beam=fea.beamcol2d(materials,sections,nodes,elements,restraints,forces_nodes,forces_distributed)\n",
    "#beam.plot_deformed(disp_magn=50,title='deformed shape',markersize=10,grid=False)\n",
    "self=beam"
   ]
  },
  {
   "cell_type": "code",
   "execution_count": 5,
   "metadata": {},
   "outputs": [
    {
     "data": {
      "text/plain": [
       "[639964.2857142852,\n",
       " 174535.71428571478,\n",
       " -174535.7142857141,\n",
       " 989035.7142857141,\n",
       " 872678.5714285712,\n",
       " -58178.571428571246,\n",
       " 58178.57142857136,\n",
       " 756321.4285714286,\n",
       " 756321.4285714284,\n",
       " 58178.57142857154,\n",
       " -58178.571428571595,\n",
       " 872678.5714285716,\n",
       " 989035.7142857141,\n",
       " -174535.7142857141,\n",
       " 174535.7142857142,\n",
       " 639964.2857142858]"
      ]
     },
     "execution_count": 5,
     "metadata": {},
     "output_type": "execute_result"
    }
   ],
   "source": [
    "beam.shear"
   ]
  },
  {
   "cell_type": "code",
   "execution_count": 6,
   "metadata": {},
   "outputs": [
    {
     "data": {
      "text/plain": [
       "[0.0,\n",
       " 0.0,\n",
       " 0.0,\n",
       " 0.0,\n",
       " 0.0,\n",
       " 0.0,\n",
       " 0.0,\n",
       " 0.0,\n",
       " 0.0,\n",
       " 0.0,\n",
       " 0.0,\n",
       " 0.0,\n",
       " 0.0,\n",
       " 0.0,\n",
       " 0.0,\n",
       " 0.0]"
      ]
     },
     "execution_count": 6,
     "metadata": {},
     "output_type": "execute_result"
    }
   ],
   "source": [
    "beam.axial"
   ]
  },
  {
   "cell_type": "code",
   "execution_count": 7,
   "metadata": {},
   "outputs": [
    {
     "data": {
      "text/plain": [
       "[-4.656612873077393e-10,\n",
       " 1047214.2857142852,\n",
       " -1047214.2857142854,\n",
       " -1570821.4285714284,\n",
       " 1570821.4285714286,\n",
       " 523607.1428571427,\n",
       " -523607.14285714284,\n",
       " -1047214.2857142857,\n",
       " 1047214.2857142858,\n",
       " 523607.14285714296,\n",
       " -523607.14285714284,\n",
       " -1570821.4285714286,\n",
       " 1570821.4285714286,\n",
       " 1047214.2857142857,\n",
       " -1047214.2857142859,\n",
       " -2.3283064365386963e-10]"
      ]
     },
     "execution_count": 7,
     "metadata": {},
     "output_type": "execute_result"
    }
   ],
   "source": [
    "beam.moment"
   ]
  }
 ],
 "metadata": {
  "kernelspec": {
   "display_name": "Python 3",
   "language": "python",
   "name": "python3"
  },
  "language_info": {
   "codemirror_mode": {
    "name": "ipython",
    "version": 3
   },
   "file_extension": ".py",
   "mimetype": "text/x-python",
   "name": "python",
   "nbconvert_exporter": "python",
   "pygments_lexer": "ipython3",
   "version": "3.7.6"
  }
 },
 "nbformat": 4,
 "nbformat_minor": 4
}
