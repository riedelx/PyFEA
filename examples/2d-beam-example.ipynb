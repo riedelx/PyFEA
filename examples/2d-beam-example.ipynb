{
 "cells": [
  {
   "cell_type": "markdown",
   "metadata": {},
   "source": [
    "# 2d beam example"
   ]
  },
  {
   "cell_type": "code",
   "execution_count": 1,
   "metadata": {},
   "outputs": [],
   "source": [
    "import sys\n",
    "sys.path.insert(1, '../libraries')\n",
    "import fea\n",
    "# import utils\n",
    "# import numpy as np\n",
    "# import pandas as pd\n",
    "# from numpy.linalg import inv\n",
    "# from numpy.linalg import multi_dot\n",
    "# import pandas as pd\n",
    "# import matplotlib as mpl\n",
    "# import matplotlib.pyplot as plt"
   ]
  },
  {
   "cell_type": "code",
   "execution_count": 2,
   "metadata": {},
   "outputs": [],
   "source": [
    "# # truss\n",
    "# materials=[['mat1',2E+9]]\n",
    "# sections=[['section 1',0.2,4E+6/2E+9],['section 2',0.2,8E+6/2E+9]]\n",
    "# nodes=[['node 1', 0, 0],['node 2', 3, 0],['node 3', 6, 0],['node 4', 12, 0]]\n",
    "# elements=[['element 1','node 1','node 2','section 1','mat1'],\n",
    "#           ['element 2','node 2','node 3','section 1','mat1'],\n",
    "#           ['element 3','node 3','node 4','section 2','mat1']]\n",
    "# restraints=[['node 1',1,1,1],['node 3',0,1,0],['node 4',0,1,0]]\n",
    "# forces_nodes=[['node 2',0,-1.6E+4,0]]\n",
    "# forces_distributed=None\n",
    "# forces_distributed=[['element 3',-1E+4,-1E+4]]"
   ]
  },
  {
   "cell_type": "code",
   "execution_count": 3,
   "metadata": {},
   "outputs": [],
   "source": [
    "# D-Frame\n",
    "materials=[['mat1',2E+9]]\n",
    "sections=[['section 1',0.2,4E+6/2E+9]]\n",
    "nodes=[['node 1', 0, 0],['node 2', 4.5, 0],['node 3', 9, 0],['node 4', 13.5, 0],['node 5', 18, 0],\n",
    "      ['node 6', 22.5, 0],['node 7', 27, 0],['node 8', 31.5, 0],['node 9', 36, 0]]\n",
    "elements=[['element 1','node 1','node 2','section 1','mat1'],\n",
    "          ['element 2','node 2','node 3','section 1','mat1'],\n",
    "          ['element 3','node 3','node 4','section 1','mat1'],\n",
    "          ['element 4','node 4','node 5','section 1','mat1'],\n",
    "          ['element 5','node 5','node 6','section 1','mat1'],\n",
    "          ['element 6','node 6','node 7','section 1','mat1'],\n",
    "          ['element 7','node 7','node 8','section 1','mat1'],\n",
    "          ['element 8','node 8','node 9','section 1','mat1']]\n",
    "restraints=[['node 1',1,1,0],['node 3',1,1,0],['node 5',1,1,0],['node 7',1,1,0],['node 9',1,1,0]]\n",
    "forces_nodes=None\n",
    "forces_distributed=None\n",
    "forces_distributed=[['element '+str(i+1),-181E+3,-181E+3] for i in range(len(elements))]"
   ]
  },
  {
   "cell_type": "code",
   "execution_count": 4,
   "metadata": {},
   "outputs": [],
   "source": [
    "# # frame\n",
    "# materials=[['mat1',2E+9]]\n",
    "# sections=[['section 1',0.2,4E+6/2E+9]]\n",
    "# nodes=[['node 1', 0, 0],['node 2', 0, 6],['node 3', 3, 6],['node 4', 7, 6],['node 5', 7, 0],['node 6', 7, -3]]\n",
    "# elements=[['element 1','node 1','node 2','section 1','mat1'],\n",
    "#           ['element 2','node 2','node 3','section 1','mat1'],\n",
    "#           ['element 3','node 3','node 4','section 1','mat1'],\n",
    "#           ['element 4','node 4','node 5','section 1','mat1'],\n",
    "#           ['element 5','node 5','node 6','section 1','mat1']]\n",
    "# restraints=[['node 1',1,1,1],['node 6',1,1,1]]\n",
    "# forces_nodes=None\n",
    "# forces_distributed=None\n",
    "# forces_distributed=[['element 3', -80, -80]]"
   ]
  },
  {
   "cell_type": "code",
   "execution_count": 5,
   "metadata": {},
   "outputs": [],
   "source": [
    "# # beam\n",
    "# materials=[['mat1',2E+9]]\n",
    "# sections=[['section 1',0.2,4E+6/2E+9]]\n",
    "# nodes=[['node 1', 0, 0],['node 2', 5, 0],['node 3', 10, 0],['node 4', 13, 0]]\n",
    "# elements=[['element 1','node 1','node 2','section 1','mat1'],\n",
    "#           ['element 2','node 2','node 3','section 1','mat1'],\n",
    "#           ['element 3','node 3','node 4','section 1','mat1']]\n",
    "# restraints=[['node 1',1,1,0],['node 2',1,1,0],['node 3',1,1,0]]\n",
    "# forces_nodes=[['node 4',0,-100,0]]\n",
    "# forces_distributed=None"
   ]
  },
  {
   "cell_type": "code",
   "execution_count": 6,
   "metadata": {},
   "outputs": [],
   "source": [
    "# # beam\n",
    "# materials=[['mat1',2E+9]]\n",
    "# sections=[['section 1',0.2,4E+6/2E+9]]\n",
    "# nodes=[['node 1', 0, 0],['node 2', 10, 0],['node 3', 20, 0],['node 4', 26, 0]]\n",
    "# elements=[['element 1','node 1','node 2','section 1','mat1'],\n",
    "#           ['element 2','node 2','node 3','section 1','mat1'],\n",
    "#           ['element 3','node 3','node 4','section 1','mat1']]\n",
    "# restraints=[['node 1',1,1,0],['node 2',1,1,0],['node 3',1,1,0]]\n",
    "# forces_nodes=[['node 4',0,-10,0]]\n",
    "# forces_distributed=[['element 1',-10,-10],['element 2',-5,-5]]"
   ]
  },
  {
   "cell_type": "code",
   "execution_count": 7,
   "metadata": {},
   "outputs": [],
   "source": [
    "beam=fea.beamcol2d(materials,sections,nodes,elements,restraints,forces_nodes,forces_distributed)\n",
    "#beam.plot_deformed(disp_magn=50,title='deformed shape',markersize=10,grid=False)\n",
    "self=beam"
   ]
  },
  {
   "cell_type": "code",
   "execution_count": 8,
   "metadata": {},
   "outputs": [
    {
     "data": {
      "text/plain": [
       "[639964.2857142852,\n",
       " 174535.71428571478,\n",
       " -174535.7142857141,\n",
       " 989035.7142857141,\n",
       " 872678.5714285712,\n",
       " -58178.571428571246,\n",
       " 58178.57142857136,\n",
       " 756321.4285714286,\n",
       " 756321.4285714284,\n",
       " 58178.57142857154,\n",
       " -58178.571428571595,\n",
       " 872678.5714285716,\n",
       " 989035.7142857141,\n",
       " -174535.7142857141,\n",
       " 174535.7142857142,\n",
       " 639964.2857142858]"
      ]
     },
     "execution_count": 8,
     "metadata": {},
     "output_type": "execute_result"
    }
   ],
   "source": [
    "beam.shear"
   ]
  },
  {
   "cell_type": "code",
   "execution_count": 9,
   "metadata": {},
   "outputs": [
    {
     "data": {
      "text/plain": [
       "[0.0,\n",
       " 0.0,\n",
       " 0.0,\n",
       " 0.0,\n",
       " 0.0,\n",
       " 0.0,\n",
       " 0.0,\n",
       " 0.0,\n",
       " 0.0,\n",
       " 0.0,\n",
       " 0.0,\n",
       " 0.0,\n",
       " 0.0,\n",
       " 0.0,\n",
       " 0.0,\n",
       " 0.0]"
      ]
     },
     "execution_count": 9,
     "metadata": {},
     "output_type": "execute_result"
    }
   ],
   "source": [
    "beam.axial"
   ]
  },
  {
   "cell_type": "code",
   "execution_count": 10,
   "metadata": {},
   "outputs": [
    {
     "data": {
      "text/plain": [
       "[-4.656612873077393e-10,\n",
       " 1047214.2857142852,\n",
       " -1047214.2857142854,\n",
       " -1570821.4285714284,\n",
       " 1570821.4285714286,\n",
       " 523607.1428571427,\n",
       " -523607.14285714284,\n",
       " -1047214.2857142857,\n",
       " 1047214.2857142858,\n",
       " 523607.14285714296,\n",
       " -523607.14285714284,\n",
       " -1570821.4285714286,\n",
       " 1570821.4285714286,\n",
       " 1047214.2857142857,\n",
       " -1047214.2857142859,\n",
       " -2.3283064365386963e-10]"
      ]
     },
     "execution_count": 10,
     "metadata": {},
     "output_type": "execute_result"
    }
   ],
   "source": [
    "beam.moment"
   ]
  },
  {
   "cell_type": "code",
   "execution_count": 11,
   "metadata": {},
   "outputs": [
    {
     "data": {
      "image/png": "[encoded data removed]",
      "text/plain": [
       "<Figure size 1440x288 with 1 Axes>"
      ]
     },
     "metadata": {
      "needs_background": "light"
     },
     "output_type": "display_data"
    }
   ],
   "source": [
    "beam.plot_moments(title='moment diagram',figsize=(20,4),scale=1,steps=10,fontsize=12,round=3)"
   ]
  },
  {
   "cell_type": "code",
   "execution_count": 12,
   "metadata": {},
   "outputs": [
    {
     "data": {
      "text/html": [
       "<div>\n",
       "<style scoped>\n",
       "    .dataframe tbody tr th:only-of-type {\n",
       "        vertical-align: middle;\n",
       "    }\n",
       "\n",
       "    .dataframe tbody tr th {\n",
       "        vertical-align: top;\n",
       "    }\n",
       "\n",
       "    .dataframe thead th {\n",
       "        text-align: right;\n",
       "    }\n",
       "</style>\n",
       "<table border=\"1\" class=\"dataframe\">\n",
       "  <thead>\n",
       "    <tr style=\"text-align: right;\">\n",
       "      <th></th>\n",
       "      <th>name</th>\n",
       "      <th>m1</th>\n",
       "      <th>m2</th>\n",
       "      <th>mMid</th>\n",
       "      <th>S1</th>\n",
       "      <th>S2</th>\n",
       "    </tr>\n",
       "  </thead>\n",
       "  <tbody>\n",
       "    <tr>\n",
       "      <th>0</th>\n",
       "      <td>element 1</td>\n",
       "      <td>-4.660000e-10</td>\n",
       "      <td>-1.050000e+06</td>\n",
       "      <td>-4.660000e-10</td>\n",
       "      <td>639964.285714</td>\n",
       "      <td>174535.714286</td>\n",
       "    </tr>\n",
       "    <tr>\n",
       "      <th>1</th>\n",
       "      <td>element 2</td>\n",
       "      <td>-1.050000e+06</td>\n",
       "      <td>1.570000e+06</td>\n",
       "      <td>-1.050000e+06</td>\n",
       "      <td>-174535.714286</td>\n",
       "      <td>989035.714286</td>\n",
       "    </tr>\n",
       "    <tr>\n",
       "      <th>2</th>\n",
       "      <td>element 3</td>\n",
       "      <td>1.570000e+06</td>\n",
       "      <td>-5.240000e+05</td>\n",
       "      <td>-5.240000e+05</td>\n",
       "      <td>872678.571429</td>\n",
       "      <td>-58178.571429</td>\n",
       "    </tr>\n",
       "    <tr>\n",
       "      <th>3</th>\n",
       "      <td>element 4</td>\n",
       "      <td>-5.240000e+05</td>\n",
       "      <td>1.050000e+06</td>\n",
       "      <td>-5.310000e+05</td>\n",
       "      <td>58178.571429</td>\n",
       "      <td>756321.428571</td>\n",
       "    </tr>\n",
       "    <tr>\n",
       "      <th>4</th>\n",
       "      <td>element 5</td>\n",
       "      <td>1.050000e+06</td>\n",
       "      <td>-5.240000e+05</td>\n",
       "      <td>-5.310000e+05</td>\n",
       "      <td>756321.428571</td>\n",
       "      <td>58178.571429</td>\n",
       "    </tr>\n",
       "    <tr>\n",
       "      <th>5</th>\n",
       "      <td>element 6</td>\n",
       "      <td>-5.240000e+05</td>\n",
       "      <td>1.570000e+06</td>\n",
       "      <td>-5.240000e+05</td>\n",
       "      <td>-58178.571429</td>\n",
       "      <td>872678.571429</td>\n",
       "    </tr>\n",
       "    <tr>\n",
       "      <th>6</th>\n",
       "      <td>element 7</td>\n",
       "      <td>1.570000e+06</td>\n",
       "      <td>-1.050000e+06</td>\n",
       "      <td>-1.050000e+06</td>\n",
       "      <td>989035.714286</td>\n",
       "      <td>-174535.714286</td>\n",
       "    </tr>\n",
       "    <tr>\n",
       "      <th>7</th>\n",
       "      <td>element 8</td>\n",
       "      <td>-1.050000e+06</td>\n",
       "      <td>2.330000e-10</td>\n",
       "      <td>2.330000e-10</td>\n",
       "      <td>174535.714286</td>\n",
       "      <td>639964.285714</td>\n",
       "    </tr>\n",
       "  </tbody>\n",
       "</table>\n",
       "</div>"
      ],
      "text/plain": [
       "        name            m1            m2          mMid             S1  \\\n",
       "0  element 1 -4.660000e-10 -1.050000e+06 -4.660000e-10  639964.285714   \n",
       "1  element 2 -1.050000e+06  1.570000e+06 -1.050000e+06 -174535.714286   \n",
       "2  element 3  1.570000e+06 -5.240000e+05 -5.240000e+05  872678.571429   \n",
       "3  element 4 -5.240000e+05  1.050000e+06 -5.310000e+05   58178.571429   \n",
       "4  element 5  1.050000e+06 -5.240000e+05 -5.310000e+05  756321.428571   \n",
       "5  element 6 -5.240000e+05  1.570000e+06 -5.240000e+05  -58178.571429   \n",
       "6  element 7  1.570000e+06 -1.050000e+06 -1.050000e+06  989035.714286   \n",
       "7  element 8 -1.050000e+06  2.330000e-10  2.330000e-10  174535.714286   \n",
       "\n",
       "              S2  \n",
       "0  174535.714286  \n",
       "1  989035.714286  \n",
       "2  -58178.571429  \n",
       "3  756321.428571  \n",
       "4   58178.571429  \n",
       "5  872678.571429  \n",
       "6 -174535.714286  \n",
       "7  639964.285714  "
      ]
     },
     "execution_count": 12,
     "metadata": {},
     "output_type": "execute_result"
    }
   ],
   "source": [
    "beam.element_summary"
   ]
  },
  {
   "cell_type": "code",
   "execution_count": null,
   "metadata": {},
   "outputs": [],
   "source": []
  }
 ],
 "metadata": {
  "kernelspec": {
   "display_name": "Python 3",
   "language": "python",
   "name": "python3"
  },
  "language_info": {
   "codemirror_mode": {
    "name": "ipython",
    "version": 3
   },
   "file_extension": ".py",
   "mimetype": "text/x-python",
   "name": "python",
   "nbconvert_exporter": "python",
   "pygments_lexer": "ipython3",
   "version": "3.7.6"
  }
 },
 "nbformat": 4,
 "nbformat_minor": 4
}
