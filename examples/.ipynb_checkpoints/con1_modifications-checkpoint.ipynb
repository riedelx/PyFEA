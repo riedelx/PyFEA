{
 "cells": [
  {
   "cell_type": "markdown",
   "metadata": {},
   "source": [
    "# con1 modifications"
   ]
  },
  {
   "cell_type": "code",
   "execution_count": 1,
   "metadata": {},
   "outputs": [],
   "source": [
    "import numpy as np\n",
    "import pandas as pd\n",
    "import matplotlib.pyplot as plt\n",
    "import math\n",
    "import sys\n",
    "sys.path.insert(1, '../libraries')\n",
    "import rc\n",
    "import sections as sect\n",
    "import materials as mat\n",
    "import utils"
   ]
  },
  {
   "cell_type": "code",
   "execution_count": 2,
   "metadata": {},
   "outputs": [],
   "source": [
    "def alpha_plot(initial,alphat,alphac,pseto='',crkso='',extra=''):\n",
    "    if alphat==0: at='= 0'\n",
    "    elif alphat==-1: at='-1'\n",
    "    elif alphat==1: at='1'\n",
    "    elif alphat>0: at='> 0'\n",
    "    else: at='< 0'\n",
    "    if alphac==0: ac='= 0'\n",
    "    elif alphac==-1: ac='-1'\n",
    "    elif alphac==1: ac='1'\n",
    "    elif alphac>0: ac='> 0'\n",
    "    else: ac='< 0'\n",
    "    title=initial+'alphac '+ac+', alphat '+at\n",
    "    if pseto!='': title=title+', pseto = '+str(pseto)\n",
    "    if crkso!='': title=title+', crkso = '+str(crkso)\n",
    "    if extra!='': title=title+extra\n",
    "    return title\n",
    "\n",
    "def strainHist(strain,title='Strain history',xlim=(0,None),ylim=(None,None),xlabel='Step',ylabel='Strain'):\n",
    "    fig,ax = utils.plotBase()\n",
    "    ax.plot(np.arange(len(strain)),strain)\n",
    "    ax.set_title(title)\n",
    "    ax.set_xlabel(xlabel)\n",
    "    ax.set_ylabel(ylabel)\n",
    "    ax.set_xlim(xlim)\n",
    "    ax.set_ylim(ylim)\n",
    "    plt.show()"
   ]
  },
  {
   "cell_type": "code",
   "execution_count": 4,
   "metadata": {},
   "outputs": [
    {
     "name": "stdout",
     "output_type": "stream",
     "text": [
      "plastic =  ('C20', 'con1', 18200, 20, -1900, 1.0, 30300, 2.8, -3100)\n"
     ]
    },
    {
     "data": {
      "image/png": "[encoded data removed]",
      "text/plain": [
       "<Figure size 432x288 with 1 Axes>"
      ]
     },
     "metadata": {
      "needs_background": "light"
     },
     "output_type": "display_data"
    },
    {
     "data": {
      "text/html": [
       "<div>\n",
       "<style scoped>\n",
       "    .dataframe tbody tr th:only-of-type {\n",
       "        vertical-align: middle;\n",
       "    }\n",
       "\n",
       "    .dataframe tbody tr th {\n",
       "        vertical-align: top;\n",
       "    }\n",
       "\n",
       "    .dataframe thead th {\n",
       "        text-align: right;\n",
       "    }\n",
       "</style>\n",
       "<table border=\"1\" class=\"dataframe\">\n",
       "  <thead>\n",
       "    <tr style=\"text-align: right;\">\n",
       "      <th></th>\n",
       "      <th>$$ID$$</th>\n",
       "      <th>$$f_{c1}[MPa]$$</th>\n",
       "      <th>$$f_{c2}[MPa]$$</th>\n",
       "      <th>$$f_{t}[MPa]$$</th>\n",
       "      <th>$$E_{c0}[MPa]$$</th>\n",
       "      <th>$$E_{c1}[MPa]$$</th>\n",
       "      <th>$$E_{c2}[MPa]$$</th>\n",
       "      <th>$$E_{t1}[MPa]$$</th>\n",
       "      <th>$$E_{t2}[MPa]$$</th>\n",
       "      <th>$$e_{c1}$$</th>\n",
       "      <th>$$e_{c2}$$</th>\n",
       "      <th>$$e_{t1}$$</th>\n",
       "      <th>$$e_{t2}$$</th>\n",
       "      <th>$$alpha_{c}$$</th>\n",
       "      <th>$$alpha_{t}$$</th>\n",
       "    </tr>\n",
       "  </thead>\n",
       "  <tbody>\n",
       "    <tr>\n",
       "      <th>stmdl2</th>\n",
       "      <td>stmdl2</td>\n",
       "      <td>-20.0</td>\n",
       "      <td>-1.0</td>\n",
       "      <td>0.1</td>\n",
       "      <td>30212.0</td>\n",
       "      <td>18200</td>\n",
       "      <td>-10.0</td>\n",
       "      <td>30300</td>\n",
       "      <td>-100.0</td>\n",
       "      <td>-0.001099</td>\n",
       "      <td>-1.901099</td>\n",
       "      <td>3e-06</td>\n",
       "      <td>0.001003</td>\n",
       "      <td>-0.66</td>\n",
       "      <td>0.67</td>\n",
       "    </tr>\n",
       "  </tbody>\n",
       "</table>\n",
       "</div>"
      ],
      "text/plain": [
       "        $$ID$$ $$f_{c1}[MPa]$$ $$f_{c2}[MPa]$$ $$f_{t}[MPa]$$ $$E_{c0}[MPa]$$  \\\n",
       "stmdl2  stmdl2           -20.0            -1.0            0.1         30212.0   \n",
       "\n",
       "       $$E_{c1}[MPa]$$ $$E_{c2}[MPa]$$ $$E_{t1}[MPa]$$ $$E_{t2}[MPa]$$  \\\n",
       "stmdl2           18200           -10.0           30300          -100.0   \n",
       "\n",
       "       $$e_{c1}$$ $$e_{c2}$$ $$e_{t1}$$ $$e_{t2}$$ $$alpha_{c}$$ $$alpha_{t}$$  \n",
       "stmdl2  -0.001099  -1.901099      3e-06   0.001003         -0.66          0.67  "
      ]
     },
     "execution_count": 4,
     "metadata": {},
     "output_type": "execute_result"
    }
   ],
   "source": [
    "# Plastic\n",
    "strain=np.arange(-2,.0015,0.00001)\n",
    "concr=mat.conMC2010('C20', 20, 250, epsilon_2t = 0.001, plotting=False)\n",
    "concr.data_frame()\n",
    "print('plastic = ',concr.adaptic_print())\n",
    "Ec1, fc1, Ec2, fc2, Et1, ft, Et2=concr.adaptic_print()[2:]\n",
    "\n",
    "alphac,alphat=-0.66, 0.67\n",
    "Ec1, fc1, Ec2, fc2, Et1, ft, Et2,alphac,alphat=18200, 20, -1.00E+01, 1.0, 30300, 0.1, -1.00E+02, alphac,alphat\n",
    "con1=mat.stmdl2.from_ADAPTIC(Ec1, fc1, Ec2, fc2, Et1, ft, Et2,alphac,alphat)\n",
    "con1.plot(strain=strain,title='CP',retn='stress',legend=False,pseto=0,crkso=0)\n",
    "con1.data_frame()\n"
   ]
  },
  {
   "cell_type": "code",
   "execution_count": 8,
   "metadata": {},
   "outputs": [
    {
     "name": "stdout",
     "output_type": "stream",
     "text": [
      "Real concrete =  ('C50', 'con1', 23200, 50, -10400, 2.5, 38600, 4.5, -5100)\n"
     ]
    },
    {
     "data": {
      "image/png": "[encoded data removed]",
      "text/plain": [
       "<Figure size 432x288 with 1 Axes>"
      ]
     },
     "metadata": {
      "needs_background": "light"
     },
     "output_type": "display_data"
    },
    {
     "data": {
      "text/html": [
       "<div>\n",
       "<style scoped>\n",
       "    .dataframe tbody tr th:only-of-type {\n",
       "        vertical-align: middle;\n",
       "    }\n",
       "\n",
       "    .dataframe tbody tr th {\n",
       "        vertical-align: top;\n",
       "    }\n",
       "\n",
       "    .dataframe thead th {\n",
       "        text-align: right;\n",
       "    }\n",
       "</style>\n",
       "<table border=\"1\" class=\"dataframe\">\n",
       "  <thead>\n",
       "    <tr style=\"text-align: right;\">\n",
       "      <th></th>\n",
       "      <th>ID</th>\n",
       "      <th>$$h[mm]$$</th>\n",
       "      <th>$$f_{c1}[MPa]$$</th>\n",
       "      <th>$$f_{c2}[MPa]$$</th>\n",
       "      <th>$$f_{t}[MPa]$$</th>\n",
       "      <th>$$E_{c0}[MPa]$$</th>\n",
       "      <th>$$E_{c1}[MPa]$$</th>\n",
       "      <th>$$E_{c2}[MPa]$$</th>\n",
       "      <th>$$E_{t1}[MPa]$$</th>\n",
       "      <th>$$E_{t2}[MPa]$$</th>\n",
       "      <th>$$G_{f}[N/mm]$$</th>\n",
       "      <th>$$G_{c}[N/mm]$$</th>\n",
       "      <th>$$e_{c1}$$</th>\n",
       "      <th>$$e_{c2}$$</th>\n",
       "      <th>$$e_{t1}$$</th>\n",
       "      <th>$$e_{t2}$$</th>\n",
       "      <th>$$alpha_{C}$$</th>\n",
       "    </tr>\n",
       "  </thead>\n",
       "  <tbody>\n",
       "    <tr>\n",
       "      <th>C50</th>\n",
       "      <td>C50</td>\n",
       "      <td>250</td>\n",
       "      <td>50</td>\n",
       "      <td>2.5</td>\n",
       "      <td>4.5</td>\n",
       "      <td>38600</td>\n",
       "      <td>23200</td>\n",
       "      <td>-10400</td>\n",
       "      <td>38600</td>\n",
       "      <td>-5100</td>\n",
       "      <td>0.152</td>\n",
       "      <td>38.0</td>\n",
       "      <td>0.002159</td>\n",
       "      <td>0.006719</td>\n",
       "      <td>0.000117</td>\n",
       "      <td>0.001</td>\n",
       "      <td>0.66</td>\n",
       "    </tr>\n",
       "  </tbody>\n",
       "</table>\n",
       "</div>"
      ],
      "text/plain": [
       "      ID $$h[mm]$$ $$f_{c1}[MPa]$$ $$f_{c2}[MPa]$$ $$f_{t}[MPa]$$  \\\n",
       "C50  C50       250              50             2.5            4.5   \n",
       "\n",
       "    $$E_{c0}[MPa]$$ $$E_{c1}[MPa]$$ $$E_{c2}[MPa]$$ $$E_{t1}[MPa]$$  \\\n",
       "C50           38600           23200          -10400           38600   \n",
       "\n",
       "    $$E_{t2}[MPa]$$ $$G_{f}[N/mm]$$ $$G_{c}[N/mm]$$ $$e_{c1}$$ $$e_{c2}$$  \\\n",
       "C50           -5100           0.152            38.0   0.002159   0.006719   \n",
       "\n",
       "    $$e_{t1}$$ $$e_{t2}$$ $$alpha_{C}$$  \n",
       "C50   0.000117      0.001          0.66  "
      ]
     },
     "execution_count": 8,
     "metadata": {},
     "output_type": "execute_result"
    }
   ],
   "source": [
    "# Real concrete\n",
    "strain=np.arange(-.01,.0015,0.00001)\n",
    "concr=mat.conMC2010('C50', 50, 250, epsilon_2t = 0.001, plotting=False)\n",
    "print('Real concrete = ',concr.adaptic_print())\n",
    "Ec1, fc1, Ec2, fc2, Et1, ft, Et2=concr.adaptic_print()[2:]\n",
    "\n",
    "alphac,alphat=-1,-1\n",
    "Ec1, fc1, Ec2, fc2, Et1, ft, Et2,alphac,alphat=21700, 50, -6.50E+03, 4.0, 36300, 4.0, -4.50E+03, -1,1\n",
    "con1=mat.stmdl2.from_ADAPTIC(Ec1, fc1, Ec2, fc2, Et1, ft, Et2,alphac,alphat)\n",
    "con1.plot(strain=strain,title='C50',retn='stress',legend=False,pseto=0,crkso=0)\n",
    "\n",
    "concr.data_frame()"
   ]
  },
  {
   "cell_type": "code",
   "execution_count": null,
   "metadata": {},
   "outputs": [],
   "source": [
    "# Tangent line investigation\n",
    "strain1=np.linspace(0,-0.0035,200)\n",
    "strain2=np.linspace(strain1[-1],-0.001,200)\n",
    "strain3=np.linspace(strain2[-1],-0.005,200)\n",
    "strain=np.hstack((strain1,strain2,strain3))\n",
    "\n",
    "strain1=np.linspace(0,0.0001,20)\n",
    "strain2=np.linspace(strain1[-1],0,20)\n",
    "\n",
    "strain=np.hstack((strain1,strain2))\n",
    "#strain=np.linspace(0.0001,0,200)\n",
    "strainHist(strain,title='Strain history')\n",
    "\n",
    "concr = mat.conMC2010('concrete', 35, 250, epsilon_t2 = 0.001, fc2_factor = 0.05, characteristic = True,plotting=False,)\n",
    "ec0,muec1,strnc1,stresc1,et0,muet1,strnt1=concr.stmdl2_print()\n",
    "alphac=-1#-concr.alpha\n",
    "alphat=0\n",
    "\n",
    "con1=mat.stmdl2(ec0,muec1,strnc1,stresc1,et0,muet1,strnt1,alphac,alphat)\n",
    "con1.plot(strain=strain,title=alpha_plot('C35, ',alphat,alphac),lineType='-',retn='stress',legend=False)\n",
    "con1=mat.stmdl2(ec0,muec1,strnc1,stresc1,et0,muet1,strnt1,alphac,alphat)\n",
    "con1.plot(strain=strain,title=alpha_plot('C35, ',alphat,alphac,extra=', slope'),lineType='o-',retn='etan',legend=True,ylabel='slope')\n",
    "con1=mat.stmdl2(ec0,muec1,strnc1,stresc1,et0,muet1,strnt1,alphac,alphat)\n",
    "con1.plot(strain=strain,title=alpha_plot('C35, ',alphat,alphac,extra=', slope'),lineType='o-',retn='etan1',legend=True,ylabel='slope')"
   ]
  },
  {
   "cell_type": "code",
   "execution_count": null,
   "metadata": {},
   "outputs": [],
   "source": []
  },
  {
   "cell_type": "code",
   "execution_count": null,
   "metadata": {},
   "outputs": [],
   "source": [
    "# Full material response\n",
    "\n",
    "ranges=[0,.0015] # [-.0005,.00075] [-.007,.0015]\n",
    "ranges=[-.007,.0015]\n",
    "strain=np.arange(ranges[0],ranges[1],0.00001)\n",
    "concr = mat.conMC2010('C35', 50, 250, epsilon_t2 = 0.001, fc2_factor = 0.05, characteristic = True,plotting=False,)\n",
    "\n",
    "# From general properties\n",
    "ec0,muec1,strnc1,stresc1,et0,muet1,strnt1=concr.stmdl2_print()\n",
    "alphac=-1#-concr.alpha\n",
    "alphat=0\n",
    "# con1=mat.stmdl2(ec0,muec1,strnc1,stresc1,et0,muet1,strnt1,alphac,alphat)\n",
    "# con1.plot(strain=strain,title=alpha_plot('C35, ',alphat,alphac),retn='stress',legend=False,pseto=0,crkso=0)\n",
    "# con1=mat.stmdl2(ec0,muec1,strnc1,stresc1,et0,muet1,strnt1,alphac,alphat)\n",
    "# con1.plot(strain=strain,title=alpha_plot('C35, ',alphat,alphac,extra=', pset=0, crks=0, slope'),ylabel='Slope',retn='etan',legend=True,pseto=0,crkso=0)\n",
    "\n",
    "# From ADAPTIC\n",
    "Ec1, fc1, Ec2, fc2, Et1, ft, Et2=concr.adaptic_print()[2:]\n",
    "alphac=-1#-concr.alpha\n",
    "alphat=0\n",
    "con1=mat.stmdl2.from_ADAPTIC(Ec1, fc1, Ec2, fc2, Et1, ft, Et2,alphac,alphat)\n",
    "con1.plot(strain=strain,title=alpha_plot('C35, ',alphat,alphac),retn='stress',legend=False,pseto=0,crkso=0)\n",
    "con1=mat.stmdl2(ec0,muec1,strnc1,stresc1,et0,muet1,strnt1,alphac,alphat)\n",
    "con1.plot(strain=strain,title=alpha_plot('C35, ',alphat,alphac,extra=', pset=0, crks=0, slope'),ylabel='Slope',retn='etan',legend=True,pseto=0,crkso=0)"
   ]
  },
  {
   "cell_type": "code",
   "execution_count": null,
   "metadata": {},
   "outputs": [],
   "source": [
    "# Full material response\n",
    "concr = mat.conMC2010('C35', 50, 250, epsilon_t2 = 0.001, fc2_factor = 0.05, characteristic = True,plotting=False,)\n",
    "ec0,muec1,strnc1,stresc1,et0,muet1,strnt1=concr.stmdl2_print()\n",
    "alphac=-1#-concr.alpha\n",
    "alphat=0\n",
    "\n",
    "ranges=[0,.0015] # [-.0005,.00075] [-.007,.0015]\n",
    "ranges=[-.007,.0015]\n",
    "strain=np.arange(ranges[0],ranges[1],0.00001)\n",
    "\n",
    "con1=mat.stmdl2(ec0,muec1,strnc1,stresc1,et0,muet1,strnt1,alphac,alphat)\n",
    "con1.plot(strain=strain,title=alpha_plot('C35, ',alphat,alphac),retn='stress',legend=False,pseto=0,crkso=0)\n",
    "con1=mat.stmdl2(ec0,muec1,strnc1,stresc1,et0,muet1,strnt1,alphac,alphat)\n",
    "con1.plot(strain=strain,title=alpha_plot('C35, ',alphat,alphac,extra=', pset=0, crks=0, slope'),ylabel='Slope',retn='etan',legend=True,pseto=0,crkso=0)\n",
    "\n",
    "concr.data_frame() #alpha=[alphac,alphat]"
   ]
  },
  {
   "cell_type": "code",
   "execution_count": null,
   "metadata": {},
   "outputs": [],
   "source": []
  },
  {
   "cell_type": "code",
   "execution_count": null,
   "metadata": {},
   "outputs": [],
   "source": [
    "alphac=concr.alpha\n",
    "alphat=-1\n",
    "con1=mat.stmdl2(ec0,muec1,strnc1,stresc1,et0,muet1,strnt1,alphac,alphat)\n",
    "con1.stress(0.0001)\n",
    "print('strn',con1.strn)\n",
    "print('stres',con1.stres)\n",
    "print('etan',con1.etan)\n",
    "print('pset',con1.pset)\n",
    "print('crks',con1.crks)"
   ]
  },
  {
   "cell_type": "code",
   "execution_count": null,
   "metadata": {},
   "outputs": [],
   "source": []
  },
  {
   "cell_type": "code",
   "execution_count": null,
   "metadata": {},
   "outputs": [],
   "source": [
    "print('ec0=',concr.Ec1)\n",
    "print('ec0t=',concr.Ec0)\n",
    "print('muec1=',concr.Ec2)\n",
    "print('et0=',concr.Et1)\n",
    "print('muet1=',concr.Et2)\n",
    "print('strnt0=',concr.epsilon_1t)\n",
    "print('strnt1=',concr.epsilon_2t)\n",
    "print('strnc0=',-concr.epsilon_1c)\n",
    "print('strnc1=',-concr.epsilon_2c)\n",
    "print('stresc1=',-concr.fc2)\n",
    "print('strest1=',-concr.ft)\n",
    "print('strnt1=',concr.epsilon_1t)\n",
    "print('strnt2=',concr.epsilon_2t)\n",
    "print('quad=',concr.alpha)\n",
    "print('etan=',concr.Ec0)"
   ]
  },
  {
   "cell_type": "code",
   "execution_count": null,
   "metadata": {},
   "outputs": [],
   "source": [
    "# Analyse strain history\n",
    "concr = mat.conMC2010('C50', 50, 250, epsilon_t2 = 0.001, fc2_factor = 0.05, characteristic = True,plotting=False,)\n",
    "ec0,muec1,strnc1,stresc1,et0,muet1,strnt1=concr.stmdl2_print()\n",
    "alphac=-concr.alpha\n",
    "alphat=1\n",
    "\n",
    "# 0,0.0005,-0.0005,0.0006\n",
    "\n",
    "strain1=np.linspace(0,0.0005,50)\n",
    "strain2=np.linspace(strain1[-1],-0.0005,50)\n",
    "strain3=np.linspace(strain2[-1],0.0006,50)\n",
    "strain=np.hstack((strain1,strain2,strain3))\n",
    "\n",
    "con1=mat.stmdl2(ec0,muec1,strnc1,stresc1,et0,muet1,strnt1,alphac,alphat)\n",
    "con1.plot(strain=strain,title=alpha_plot('C50, ',alphat,alphac),retn='stress',legend=False)\n",
    "\n",
    "\n",
    "# 0,0.0001,-0.0005,0.0006\n",
    "\n",
    "strain1=np.linspace(0,0.0001,50)\n",
    "strain2=np.linspace(strain1[-1],-0.0005,50)\n",
    "strain3=np.linspace(strain2[-1],0.0006,50)\n",
    "strain=np.hstack((strain1,strain2,strain3))\n",
    "\n",
    "con1=mat.stmdl2(ec0,muec1,strnc1,stresc1,et0,muet1,strnt1,alphac,alphat)\n",
    "con1.plot(strain=strain,title=alpha_plot('C50, ',alphat,alphac),retn='stress',legend=False)\n",
    "\n",
    "# 0,-0.004,-0.001,-0.006\n",
    "\n",
    "strain1=np.linspace(0,-0.004,50)\n",
    "strain2=np.linspace(strain1[-1],-0.001,50)\n",
    "strain3=np.linspace(strain2[-1],-0.006,50)\n",
    "strain=np.hstack((strain1,strain2,strain3))\n",
    "\n",
    "con1=mat.stmdl2(ec0,muec1,strnc1,stresc1,et0,muet1,strnt1,alphac,alphat)\n",
    "con1.plot(strain=strain,title=alpha_plot('C50, ',alphat,alphac),retn='stress',legend=False)"
   ]
  },
  {
   "cell_type": "code",
   "execution_count": null,
   "metadata": {},
   "outputs": [],
   "source": []
  },
  {
   "cell_type": "code",
   "execution_count": null,
   "metadata": {},
   "outputs": [],
   "source": []
  }
 ],
 "metadata": {
  "kernelspec": {
   "display_name": "Python 3",
   "language": "python",
   "name": "python3"
  },
  "language_info": {
   "codemirror_mode": {
    "name": "ipython",
    "version": 3
   },
   "file_extension": ".py",
   "mimetype": "text/x-python",
   "name": "python",
   "nbconvert_exporter": "python",
   "pygments_lexer": "ipython3",
   "version": "3.7.6"
  }
 },
 "nbformat": 4,
 "nbformat_minor": 4
}
