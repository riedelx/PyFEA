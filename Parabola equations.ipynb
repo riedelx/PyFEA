{
 "cells": [
  {
   "cell_type": "markdown",
   "metadata": {},
   "source": [
    "# Parabola equations"
   ]
  },
  {
   "cell_type": "code",
   "execution_count": 1,
   "metadata": {},
   "outputs": [],
   "source": [
    "import numpy as np\n",
    "import pandas as pd\n",
    "import matplotlib.pyplot as plt\n",
    "import sys\n",
    "sys.path.insert(1, 'libraries')\n",
    "import rc\n",
    "import sections as sect\n",
    "import materials as mat\n",
    "import utils"
   ]
  },
  {
   "cell_type": "code",
   "execution_count": 2,
   "metadata": {},
   "outputs": [
    {
     "name": "stdout",
     "output_type": "stream",
     "text": [
      "y(x) = 3x**2+30x+30\n"
     ]
    }
   ],
   "source": [
    "# DEFINE PARABOLA Y\n",
    "\n",
    "a=3\n",
    "b=30\n",
    "c=30\n",
    "def fun(x):return a*x**2+b*x+c\n",
    "def fun_tan(x):return (2*a*x+b,fun(x)-(2*a*x+b)*x)\n",
    "print('y(x) = {0}x**2+{1}x+{2}'.format(a,b,c))"
   ]
  },
  {
   "cell_type": "code",
   "execution_count": 3,
   "metadata": {},
   "outputs": [
    {
     "name": "stdout",
     "output_type": "stream",
     "text": [
      "y(-4) = -42\n",
      "tangent line to parabola at x = -4:\n",
      "y(x) = 6x+-18\n"
     ]
    }
   ],
   "source": [
    "# Check the equation for a specific x (y and y')\n",
    "x=-4\n",
    "\n",
    "print('y({0}) = {1}'.format(x,fun(x)))\n",
    "print('tangent line to parabola at x = {0}:'.format(x)) \n",
    "print('y(x) = {0}x+{1}'.format(fun_tan(x)[0],fun_tan(x)[1]))"
   ]
  },
  {
   "cell_type": "code",
   "execution_count": 4,
   "metadata": {},
   "outputs": [
    {
     "name": "stdout",
     "output_type": "stream",
     "text": [
      "x0=-2, E0=18, y0=-18, x1=-3, E1=12\n"
     ]
    }
   ],
   "source": [
    "# Test on points at x0 =-2 and x1 = -3\n",
    "\n",
    "x0=-2\n",
    "E0=fun_tan(x0)[0]\n",
    "y0=fun(x0)\n",
    "x1=-3\n",
    "E1=fun_tan(x1)[0]\n",
    "print('x0={}, E0={}, y0={}, x1={}, E1={}'.format(x0,E0,y0,x1,E1))"
   ]
  },
  {
   "cell_type": "code",
   "execution_count": 5,
   "metadata": {},
   "outputs": [
    {
     "data": {
      "text/plain": [
       "-42.0"
      ]
     },
     "execution_count": 5,
     "metadata": {},
     "output_type": "execute_result"
    }
   ],
   "source": [
    "# Deriviation of a generalised equation\n",
    "\n",
    "a=(E0-E1)/2/(x0-x1)\n",
    "b=E0-2*a*x0\n",
    "c=y0-a*x0**2-b*x0\n",
    "\n",
    "y=a*x**2+b*x+c\n",
    "y=(E0-E1)/2/(x0-x1)*x**2+(E0-2*(E0-E1)/2/(x0-x1)*x0)*x+y0-a*x0**2-(E0-2*(E0-E1)/2/(x0-x1)*x0)*x0\n",
    "z=(E0-E1)/(x0-x1)\n",
    "y=z/2*x**2+(E0-2*z/2*x0)*x+y0-(E0-E1)/2/(x0-x1)*x0**2-(E0-2*z/2*x0)*x0\n",
    "y=z/2*x**2+(E0-z*x0)*x+y0-z/2*x0**2-(E0-z*x0)*x0\n",
    "y=z/2*x**2+E0*x-z*x0*x+y0-z/2*x0**2-E0*x+z*x0*x0\n",
    "y=z*(x**2/2-x0*x-x0**2/2+x0**2)+E0*(x-x0)+y0\n",
    "y=(E0-E1)/(x0-x1)*(x**2/2-x0*x+x0**2/2)+E0*(x-x0)+y0\n",
    "# y=x*((E0-E1)/(x0-x1)*(x/2-x0)+E0)+(E0-E1)/(x0-x1)*x0**2/2-E0*x0+y0\n",
    "# y=x*((E0-E1)/(x0-x1)*(x/2-x0)+E0)+x0*((E0-E1)/(x0-x1)*x0/2-E0)+y0\n",
    "y=(x-x0)**2*(E0-E1)/(2*(x0-x1))+E0*(x-x0)+y0\n",
    "y"
   ]
  },
  {
   "cell_type": "code",
   "execution_count": 6,
   "metadata": {},
   "outputs": [
    {
     "name": "stdout",
     "output_type": "stream",
     "text": [
      "y(x) = 6.0x+-18.0\n",
      "y(x) = 6.0x+-18.0\n"
     ]
    }
   ],
   "source": [
    "# derivative equation a\n",
    "y_der_a=2*(E0-E1)/(x0-x1)*x/2-(E0-E1)/(x0-x1)*x0+E0\n",
    "y_der_a=(x*(E0-E1)+x0*E1-x1*E0)/(x0-x1)\n",
    "y_der_a\n",
    "\n",
    "# derivative equation b\n",
    "y_der_b=(E0-E1)/(x0-x1)*(x**2/2-x0*x+x0**2/2)+E0*(x-x0)+y0-(x*(E0-E1)+x0*E1-x1*E0)/(x0-x1)*x\n",
    "y_der_b=(x**2*(E1-E0)-x0**2*(E0+E1)+2*x0*x1*E0)/(2*(x0-x1))+y0\n",
    "\n",
    "print('y(x) = {0}x+{1}'.format(y_der_a,y_der_b))\n",
    "print('y(x) = {0}x+{1}'.format(fun_tan(x)[0],fun_tan(x)[1]))"
   ]
  },
  {
   "cell_type": "code",
   "execution_count": 7,
   "metadata": {},
   "outputs": [
    {
     "data": {
      "text/plain": [
       "-42.0"
      ]
     },
     "execution_count": 7,
     "metadata": {},
     "output_type": "execute_result"
    }
   ],
   "source": [
    "# if E1 not known but secant line is\n",
    "E1=2*a*x1+b\n",
    "S=(fun(x1)-y0)/(x1-x0)\n",
    "S=(E1+E0)/2\n",
    "E1=2*S-E0\n",
    "y=(x-x0)**2*(2*E0-2*S)/(2*(x0-x1))+E0*(x-x0)+y0\n",
    "y"
   ]
  },
  {
   "cell_type": "code",
   "execution_count": 8,
   "metadata": {},
   "outputs": [
    {
     "data": {
      "text/plain": [
       "-42.0"
      ]
     },
     "execution_count": 8,
     "metadata": {},
     "output_type": "execute_result"
    }
   ],
   "source": [
    "#if x0=0 and E1=0\n",
    "x0=0\n",
    "E0=fun_tan(x0)[0]\n",
    "y0=fun(x0)\n",
    "x1=-5\n",
    "E1=fun_tan(x1)[0]\n",
    "\n",
    "y=x*(-E0/x1*x/2+E0)+y0\n",
    "y"
   ]
  },
  {
   "cell_type": "code",
   "execution_count": 17,
   "metadata": {},
   "outputs": [
    {
     "name": "stdout",
     "output_type": "stream",
     "text": [
      "y(x) = 3x**2+30x+30\n"
     ]
    }
   ],
   "source": [
    "# SS\n",
    "\n",
    "# E1=2*S-E0\n",
    "# S=(E1+E0)/2\n",
    "\n",
    "a=3\n",
    "b=30\n",
    "c=30\n",
    "def fun(x):return a*x**2+b*x+c\n",
    "def fun_tan(x):return (2*a*x+b,fun(x)-(2*a*x+b)*x)\n",
    "print('y(x) = {0}x**2+{1}x+{2}'.format(a,b,c))\n",
    "\n",
    "x_range=[-6,0]   \n",
    "\n",
    "x0=-2\n",
    "E0=fun_tan(x0)[0]\n",
    "y0=fun(x0)\n",
    "x1=-3\n",
    "E1=fun_tan(x1)[0]\n",
    "S=(E1+E0)/2\n",
    "\n",
    "x=-7"
   ]
  },
  {
   "cell_type": "code",
   "execution_count": 26,
   "metadata": {},
   "outputs": [
    {
     "name": "stdout",
     "output_type": "stream",
     "text": [
      "y(x) = 3.0x**2+30.0x+30.0\n",
      "y(x) = 3.0x**2+30.0x+30.0\n",
      "y'(x) = -12.0x+-117.0\n",
      "y'(x) = -12.0x+-117.0\n",
      "y_E1(-7)=-33.0, fun_S(-7)=-33.0, fun_d(-7)=(-12.0, -117.0)\n"
     ]
    }
   ],
   "source": [
    "# parabolic functions\n",
    "\n",
    "def y_E1(x,E1,E0,x0,x1,y0,printing=True): \n",
    "    a=(E0-E1)/2/(x0-x1)\n",
    "    b=E0-2*a*x0\n",
    "    c=y0-a*x0**2-b*x0\n",
    "    if printing: print('y(x) = {0}x**2+{1}x+{2}'.format(a,b,c))\n",
    "    return (x-x0)**2*(E0-E1)/(2*(x0-x1))+E0*(x-x0)+y0\n",
    "    \n",
    "def y_S(x,S,E0,x0,x1,y0,printing=True): \n",
    "    a=(E0-S)/(x0-x1)\n",
    "    b=E0-2*a*x0\n",
    "    c=y0-a*x0**2-b*x0\n",
    "    if printing: print('y(x) = {0}x**2+{1}x+{2}'.format(a,b,c))\n",
    "    return (x-x0)**2*(E0-S)/(x0-x1)+E0*(x-x0)+y0\n",
    "\n",
    "def y_prime_E1(x,E1,E0,x0,x1,y0,printing=True): \n",
    "    a=(x*(E0-E1)+x0*E1-x1*E0)/(x0-x1)\n",
    "    b=(x**2*(E1-E0)-x0**2*(E0+E1)+2*x0*x1*E0)/(2*(x0-x1))+y0\n",
    "    if printing: print('y\\'(x) = {0}x+{1}'.format(a,b))\n",
    "    return (a,b)\n",
    "\n",
    "def y_prime_S(x,S,E0,x0,x1,y0,printing=True): \n",
    "    a=(x*2*(E0-S)+x0*(2*S-E0)-x1*E0)/(x0-x1)\n",
    "    b=(S*x**2-S*x0**2-x**2*E0+x0*x1*E0)/(x0-x1)+y0\n",
    "    if printing: print('y\\'(x) = {0}x+{1}'.format(a,b))\n",
    "    return (a,b)\n",
    "\n",
    "def secant(S,x0,y0,printing=True): \n",
    "    a=S\n",
    "    b=y0-a*x0\n",
    "    if printing: print('secant: y(x) = {0}x+{1}'.format(a,b))\n",
    "    return (a,b)\n",
    "\n",
    "f_1=y_E1(x,E1,E0,x0,x1,y0,printing=True)\n",
    "f_2=y_S(x,S,E0,x0,x1,y0,printing=True)\n",
    "f_3=y_prime_E1(x,E1,E0,x0,x1,y0,printing=True)\n",
    "f_4=y_prime_S(x,S,E0,x0,x1,y0,printing=True)\n",
    "print('y_E1({0})={1}, fun_S({0})={2}, fun_d_E1({0})={3}, fun_d_S({0})={3}'.format(x,f_1,f_2,f_3,f_4))"
   ]
  },
  {
   "cell_type": "code",
   "execution_count": 27,
   "metadata": {},
   "outputs": [],
   "source": [
    "def plotting(x_range,S,E0,E1,x0,x1,y0,title='Parabola',xlim=(None,None),ylim=(None,None),step_size=1,printing=True,original='',y_S_plot=False,y_E1_plot=False):\n",
    "    fig,ax = utils.plotBase()\n",
    "    y1=y0+(x1-x0)*S\n",
    "    if printing: print('x0={}, x1={}, y0={}, y1={}'.format(x0,x1,y0,y1))\n",
    "    x_range=np.arange(x_range[0],x_range[1],step_size)\n",
    "    \n",
    "    if original!='':# original=[a,b,c]\n",
    "        ax.plot(x_range,[original[0]*i**2+original[1]*i+original[2] for i in x_range],label='y')\n",
    "    \n",
    "    if y_E1_plot:\n",
    "        if printing: print('')\n",
    "        ax.plot(x_range,[y_E1(i,E1,E0,x0,x1,y0,printing=False) for i in x_range],label='y_E1')\n",
    "        if printing: print('y_E1')\n",
    "        ss=y_E1(x_range[0],E1,E0,x0,x1,y0,printing=printing)\n",
    "    \n",
    "    if y_S_plot:\n",
    "        if printing: print('')\n",
    "        ax.plot(x_range,[y_S(i,S,E0,x0,x1,y0,printing=False) for i in x_range],label='y_S')\n",
    "        if printing: print('y_S')\n",
    "        ss=y_S(x_range[0],S,E0,x0,x1,y0,printing=printing)\n",
    "    \n",
    "    if printing: print('')\n",
    "    if printing: print('y_prime at [{},{}]'.format(x0,y0))\n",
    "    func=y_prime_E1(x0,E1,E0,x0,x1,y0,printing=printing)\n",
    "    ax.plot(x_range,[func[0]*i+func[1] for i in x_range],label='y\\'(x0)')\n",
    "    \n",
    "    if printing: print('')\n",
    "    if printing: print('y_prime at [{},{}]'.format(x1,y1))\n",
    "    func=y_prime_E1(x1,E1,E0,x0,x1,y0,printing=printing)\n",
    "    ax.plot(x_range,[func[0]*i+func[1] for i in x_range],label='y\\'(x1)')    \n",
    "        \n",
    "    if printing: print('')\n",
    "    func=secant(S,x0,y0,printing=printing)\n",
    "    ax.plot(x_range,[func[0]*i+func[1] for i in x_range],label='secant')  \n",
    "    \n",
    "    ax.plot(x0,y0,'ro')\n",
    "    ax.plot(x1,y1,'ro')\n",
    "    \n",
    "    ax.set_title(title)\n",
    "    ax.set_xlabel('x')\n",
    "    ax.set_ylabel('y')\n",
    "    ax.set_xlim(xlim)\n",
    "    ax.set_ylim(ylim)\n",
    "    ax.legend()\n",
    "    plt.show()"
   ]
  },
  {
   "cell_type": "code",
   "execution_count": 12,
   "metadata": {},
   "outputs": [
    {
     "name": "stdout",
     "output_type": "stream",
     "text": [
      "y(x) = 3x**2+30x+30\n",
      "x0=-2, x1=-3, y0=-18, y1=-33.0\n",
      "\n",
      "y_prime at [-2,-18]\n",
      "y'(x) = 18.0x+18.0\n",
      "\n",
      "y_prime at [-3,-33.0]\n",
      "y'(x) = 12.0x+3.0\n",
      "\n",
      "secant: y(x) = 15.0x+12.0\n"
     ]
    },
    {
     "data": {
      "image/png": "[encoded data removed]",
      "text/plain": [
       "<Figure size 432x288 with 1 Axes>"
      ]
     },
     "metadata": {
      "needs_background": "light"
     },
     "output_type": "display_data"
    }
   ],
   "source": [
    "a=3\n",
    "b=30\n",
    "c=30\n",
    "def fun(x):return a*x**2+b*x+c\n",
    "def fun_tan(x):return (2*a*x+b,fun(x)-(2*a*x+b)*x)\n",
    "print('y(x) = {0}x**2+{1}x+{2}'.format(a,b,c))\n",
    "\n",
    "x_range=[-6,0]   \n",
    "\n",
    "x0=-2\n",
    "E0=fun_tan(x0)[0]\n",
    "y0=fun(x0)\n",
    "x1=-3\n",
    "E1=fun_tan(x1)[0]\n",
    "S=(E1+E0)/2\n",
    "\n",
    "plotting(x_range,S,E0,E1,x0,x1,y0,step_size=0.1,printing=True,original=[a,b,c])"
   ]
  },
  {
   "cell_type": "code",
   "execution_count": 13,
   "metadata": {},
   "outputs": [
    {
     "name": "stdout",
     "output_type": "stream",
     "text": [
      "y(x) = 3x**2+30x+30\n",
      "x0=-2, x1=-5, y0=-18, y1=-45.0\n",
      "\n",
      "y_E1\n",
      "y(x) = 3.0x**2+30.0x+30.0\n",
      "\n",
      "y_S\n",
      "y(x) = 3.0x**2+30.0x+30.0\n",
      "\n",
      "y_prime at [-2,-18]\n",
      "y'(x) = 18.0x+18.0\n",
      "\n",
      "y_prime at [-5,-45.0]\n",
      "y'(x) = 0.0x+-45.0\n",
      "\n",
      "secant: y(x) = 9.0x+0.0\n"
     ]
    },
    {
     "data": {
      "image/png": "[encoded data removed]",
      "text/plain": [
       "<Figure size 432x288 with 1 Axes>"
      ]
     },
     "metadata": {
      "needs_background": "light"
     },
     "output_type": "display_data"
    }
   ],
   "source": [
    "a=3\n",
    "b=30\n",
    "c=30\n",
    "def fun(x):return a*x**2+b*x+c\n",
    "def fun_tan(x):return (2*a*x+b,fun(x)-(2*a*x+b)*x)\n",
    "print('y(x) = {0}x**2+{1}x+{2}'.format(a,b,c))\n",
    "\n",
    "x_range=[-6,0]   \n",
    "\n",
    "x0=-2\n",
    "E0=fun_tan(x0)[0]\n",
    "y0=fun(x0)\n",
    "x1=-5\n",
    "E1=fun_tan(x1)[0]\n",
    "S=(E1+E0)/2\n",
    "\n",
    "plotting(x_range,S,E0,E1,x0,x1,y0,step_size=0.1,original=[a,b,c],y_E1_plot=True,y_S_plot=True)"
   ]
  },
  {
   "cell_type": "code",
   "execution_count": 14,
   "metadata": {},
   "outputs": [
    {
     "name": "stdout",
     "output_type": "stream",
     "text": [
      "y(x) = 3762240x**2+-9419x+5.708\n",
      "x0=0.00012, x1=0.001, y0=4.632000000000001, y1=0.14400000000000013\n",
      "\n",
      "y_prime at [0.00012,4.632000000000001]\n",
      "y'(x) = -10200.0x+5.856000000000001\n",
      "\n",
      "y_prime at [0.001,0.14400000000000013]\n",
      "y'(x) = -0.0x+0.14400000000000102\n",
      "\n",
      "secant: y(x) = -5100x+5.244000000000001\n"
     ]
    },
    {
     "data": {
      "image/png": "[encoded data removed]",
      "text/plain": [
       "<Figure size 432x288 with 1 Axes>"
      ]
     },
     "metadata": {
      "needs_background": "light"
     },
     "output_type": "display_data"
    }
   ],
   "source": [
    "a=3762240\n",
    "b=-9419\n",
    "c=5.708\n",
    "original=[a,b,c]\n",
    "#original=''\n",
    "def fun(x):return a*x**2+b*x+c\n",
    "def fun_tan(x):return (2*a*x+b,fun(x)-(2*a*x+b)*x)\n",
    "print('y(x) = {0}x**2+{1}x+{2}'.format(a,b,c))\n",
    "\n",
    "x_range=[-0.0005,0.002]  \n",
    "\n",
    "x0=0.00012\n",
    "y0=4.632000000000001\n",
    "x1=0.001\n",
    "E1=0\n",
    "#E0=-8517.0\n",
    "S=-5100\n",
    "#S=(E0-E1)/2\n",
    "E0=2*S+E1\n",
    "plotting(x_range,S,E0,E1,x0,x1,y0,step_size=0.0001,printing=True,original=original)"
   ]
  },
  {
   "cell_type": "code",
   "execution_count": 15,
   "metadata": {},
   "outputs": [],
   "source": [
    "# alpha=(E0-S)/S\n",
    "# E0=S(alpha+1)\n",
    "# S=E0/(alpha+1)\n",
    "# S=(E1+E0)/2"
   ]
  },
  {
   "cell_type": "code",
   "execution_count": null,
   "metadata": {},
   "outputs": [],
   "source": []
  }
 ],
 "metadata": {
  "kernelspec": {
   "display_name": "Python 3",
   "language": "python",
   "name": "python3"
  },
  "language_info": {
   "codemirror_mode": {
    "name": "ipython",
    "version": 3
   },
   "file_extension": ".py",
   "mimetype": "text/x-python",
   "name": "python",
   "nbconvert_exporter": "python",
   "pygments_lexer": "ipython3",
   "version": "3.7.6"
  }
 },
 "nbformat": 4,
 "nbformat_minor": 4
}
