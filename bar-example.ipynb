{
 "cells": [
  {
   "cell_type": "markdown",
   "metadata": {},
   "source": [
    "# Bar Element Example\n",
    "\n",
    "Based on [Schuster Engineering](https://www.youtube.com/watch?v=bm7nmaJmxQs&list=PLBwQ5Llf4Q_Vj8xKcxsbzIfdqrtzcHLbe&index=14).\n",
    "\n",
    "<img src=\"assets/images/bar_example1.png\" width=\"400\"/>"
   ]
  },
  {
   "cell_type": "code",
   "execution_count": 1,
   "metadata": {},
   "outputs": [],
   "source": [
    "import numpy as np\n",
    "from numpy.linalg import inv\n",
    "import pandas as pd\n",
    "import matplotlib.pyplot as plt\n",
    "import scipy\n",
    "from scipy.integrate import quad\n",
    "import sys\n",
    "sys.path.insert(1, 'libraries')\n",
    "import utils"
   ]
  },
  {
   "cell_type": "markdown",
   "metadata": {},
   "source": [
    "## Input data\n",
    "Define the input data."
   ]
  },
  {
   "cell_type": "code",
   "execution_count": 2,
   "metadata": {},
   "outputs": [],
   "source": [
    "materials=[['mat1',30E+6]]\n",
    "sections=[['section 1',2,11]]\n",
    "nodes=[['node 1', 0, 0],['node 2', 30, 0],['node 3', 60, 0]]\n",
    "elements=[['element 1','node 1','node 2','section 1','mat1','bar'],['element 2','node 2','node 3','section 1','mat1','bar']]\n",
    "restraints=['node 1']"
   ]
  },
  {
   "cell_type": "markdown",
   "metadata": {},
   "source": [
    "<p style=\"color:red;\">DO NOT MODIFY THE CODE BELOW</p>"
   ]
  },
  {
   "cell_type": "code",
   "execution_count": 3,
   "metadata": {},
   "outputs": [],
   "source": [
    "materials=pd.DataFrame(materials,columns=['name','E'])\n",
    "sections=pd.DataFrame(sections,columns=['name','A','I'])\n",
    "nodes=pd.DataFrame(nodes,columns=['name','x','y'])\n",
    "elements=pd.DataFrame(elements,columns=['name','n1','n2','section','material','type'])"
   ]
  },
  {
   "cell_type": "code",
   "execution_count": 4,
   "metadata": {},
   "outputs": [],
   "source": [
    "f_b=[['element 1',0,300],['element 2',300,600]]\n",
    "f_b=pd.DataFrame(f_b,columns=['element','end 1','end 2'])"
   ]
  },
  {
   "cell_type": "code",
   "execution_count": 5,
   "metadata": {},
   "outputs": [],
   "source": [
    "# add element lengths based on point coordinates\n",
    "L=[]\n",
    "for i in range(len(elements)):\n",
    "    if elements['type'][i] == 'bar':\n",
    "        idx1=utils.df_index(nodes,elements['n1'][i],'name')\n",
    "        idx2=utils.df_index(nodes,elements['n2'][i],'name')\n",
    "        x1=nodes['x'][idx1]\n",
    "        y1=nodes['y'][idx1]\n",
    "        x2=nodes['x'][idx2]\n",
    "        y2=nodes['y'][idx2]\n",
    "        L_temp=((x2-x1)**2+(y2-y1)**2)**0.5\n",
    "        L.append(L_temp)\n",
    "elements.insert(6, \"length\", L, True)"
   ]
  },
  {
   "cell_type": "code",
   "execution_count": 6,
   "metadata": {},
   "outputs": [],
   "source": [
    "def N_bar(x,L): return np.array([1-x/L,x/L])\n",
    "\n",
    "def f_bar(x,e1,e2,L): return (e2-e1)/L*x+e1\n",
    "\n",
    "def integMult(e1,e2,L):\n",
    "    mat = []\n",
    "    for i in range(2):\n",
    "        mat.append(quad(lambda x: N_bar(x,L)[i]*f_bar(x,e1,e2,L), 0, L)[0])\n",
    "    return mat\n",
    "\n",
    "def k_bar(A,E,L):\n",
    "    return A*E/L*np.array([[1,-1],[-1,1]])"
   ]
  },
  {
   "cell_type": "code",
   "execution_count": 7,
   "metadata": {},
   "outputs": [],
   "source": [
    "f_calc=[]\n",
    "for i in range(len(f_b['element'])):\n",
    "#     e1=utils.df_value(f_b,f_b['element'][i],'element','end 1')\n",
    "#     e2=utils.df_value(f_b,f_b['element'][i],'element','end 2')\n",
    "    e1=f_b['end 1'][i]\n",
    "    e2=f_b['end 2'][i]\n",
    "    L=utils.df_value(elements,f_b['element'][i],'name','length')\n",
    "    f_calc.append(integMult(e1,e2,L))\n",
    "f_calc=pd.DataFrame(f_calc,columns=['calc 1','calc 2'])\n",
    "f_b=f_b.join(f_calc)"
   ]
  },
  {
   "cell_type": "code",
   "execution_count": 8,
   "metadata": {},
   "outputs": [],
   "source": [
    "# Assemble global force vector\n",
    "f_glob = np.zeros((len(nodes),1))\n",
    "for i in range(len(f_b)):\n",
    "    if elements['type'][i] == 'bar':\n",
    "        n1=utils.df_value(elements,f_b['element'][i],'name','n1')\n",
    "        idx1=utils.df_index(nodes,n1,'name')\n",
    "        f_glob[idx1]=f_glob[idx1]+f_b['calc 1'][i]\n",
    "        n2=utils.df_value(elements,f_b['element'][i],'name','n2')\n",
    "        idx2=utils.df_index(nodes,n2,'name')\n",
    "        f_glob[idx2]=f_glob[idx2]+f_b['calc 2'][i]"
   ]
  },
  {
   "cell_type": "code",
   "execution_count": 9,
   "metadata": {},
   "outputs": [],
   "source": [
    "# Assemble element and global stiffness matrices\n",
    "k_glob = np.zeros((len(nodes),len(nodes)))\n",
    "k_elms =[]\n",
    "for i in range(len(elements)):\n",
    "    if elements['type'][i] == 'bar':\n",
    "        A = utils.df_value(sections,elements['section'][i],'name','A')\n",
    "        E = utils.df_value(materials,elements['material'][i],'name','E')\n",
    "        idx1=utils.df_index(nodes,elements['n1'][i],'name')\n",
    "        idx2=utils.df_index(nodes,elements['n2'][i],'name')\n",
    "        L=elements['length'][i]\n",
    "        k_elms.append(k_bar(A,E,L))\n",
    "        k_glob[idx1][idx1]=k_glob[idx1][idx1]+k_elms[i][0][0]\n",
    "        k_glob[idx1][idx2]=k_glob[idx1][idx2]+k_elms[i][0][1]\n",
    "        k_glob[idx2][idx1]=k_glob[idx2][idx1]+k_elms[i][1][0]\n",
    "        k_glob[idx2][idx2]=k_glob[idx2][idx2]+k_elms[i][1][1]"
   ]
  },
  {
   "cell_type": "code",
   "execution_count": 10,
   "metadata": {},
   "outputs": [],
   "source": [
    "rest_vect=np.zeros((len(nodes),1))\n",
    "k_glob_red=k_glob\n",
    "f_glob_red=f_glob\n",
    "indices=[]\n",
    "for i in range(len(restraints)):\n",
    "    rest_vect[utils.df_index(nodes,restraints[i],'name')]=1\n",
    "    indices.append(i)\n",
    "k_glob_red = np.delete(k_glob_red,indices,0)\n",
    "k_glob_red = np.delete(k_glob_red,indices,1)\n",
    "f_glob_red = np.delete(f_glob,indices,0)"
   ]
  },
  {
   "cell_type": "code",
   "execution_count": 21,
   "metadata": {},
   "outputs": [
    {
     "data": {
      "text/plain": [
       "array([[0.00825],\n",
       "       [0.012  ]])"
      ]
     },
     "execution_count": 21,
     "metadata": {},
     "output_type": "execute_result"
    }
   ],
   "source": [
    "# displacements\n",
    "displacements=np.matmul(inv(k_glob_red),f_glob_red)\n",
    "displacements"
   ]
  },
  {
   "cell_type": "code",
   "execution_count": 20,
   "metadata": {},
   "outputs": [
    {
     "data": {
      "text/plain": [
       "array([[0.00825],\n",
       "       [0.012  ]])"
      ]
     },
     "execution_count": 20,
     "metadata": {},
     "output_type": "execute_result"
    }
   ],
   "source": [
    "# reaction forces\n",
    "reactions=[]\n",
    "for i in range(len(restraints)):\n",
    "    reactions.append(k_glob[i])"
   ]
  },
  {
   "cell_type": "code",
   "execution_count": null,
   "metadata": {},
   "outputs": [],
   "source": []
  },
  {
   "cell_type": "code",
   "execution_count": 22,
   "metadata": {},
   "outputs": [
    {
     "data": {
      "text/plain": [
       "array([ 2000000., -2000000.,        0.])"
      ]
     },
     "execution_count": 22,
     "metadata": {},
     "output_type": "execute_result"
    }
   ],
   "source": [
    "np.matmul(k_glob[0],0"
   ]
  },
  {
   "cell_type": "code",
   "execution_count": null,
   "metadata": {},
   "outputs": [],
   "source": []
  },
  {
   "cell_type": "code",
   "execution_count": null,
   "metadata": {},
   "outputs": [],
   "source": []
  },
  {
   "cell_type": "code",
   "execution_count": null,
   "metadata": {},
   "outputs": [],
   "source": []
  },
  {
   "cell_type": "code",
   "execution_count": 13,
   "metadata": {},
   "outputs": [],
   "source": [
    "# e1=utils.df_value(f_b,'element 1','element','end 1')\n",
    "# e2=utils.df_value(f_b,'element 1','element','end 2')\n",
    "# L=30\n",
    "# #result = quad(lambda x: N_bar(x,L)[1]*f_bar(x,e1,e2,L), 0, L)[0]\n",
    "# result=integMult(e1,e2,L)\n",
    "# print(\"the result is\", result)"
   ]
  },
  {
   "cell_type": "code",
   "execution_count": 14,
   "metadata": {},
   "outputs": [
    {
     "data": {
      "text/plain": [
       "(5.083333333333333, 5.643633708511212e-14)"
      ]
     },
     "execution_count": 14,
     "metadata": {},
     "output_type": "execute_result"
    }
   ],
   "source": [
    "from scipy.integrate import quad\n",
    "def f(x,a1,a2,L):  #a is a parameter, x is the variable I want to integrate over\n",
    "    return a1+x*(a2-a1)/L\n",
    "I = quad(f, 0, 1, args=(5,10,30))\n",
    "I"
   ]
  },
  {
   "cell_type": "code",
   "execution_count": 15,
   "metadata": {},
   "outputs": [
    {
     "name": "stdout",
     "output_type": "stream",
     "text": [
      "[[9.95000000e+03 1.99000000e+04 2.98500000e+04]\n",
      " [6.63341709e+05 4.97512563e+07 3.98016750e+09]]\n"
     ]
    }
   ],
   "source": [
    "import numpy\n",
    "from scipy.integrate import trapz\n",
    "g=lambda x: numpy.array([[x,2*x,3*x],[x**2,x**3,x**4]])\n",
    "xv=numpy.linspace(0,100,200)\n",
    "print(trapz(g(xv)))"
   ]
  },
  {
   "cell_type": "code",
   "execution_count": 16,
   "metadata": {},
   "outputs": [
    {
     "data": {
      "text/plain": [
       "(array([2.00000000e+00, 3.67759339e-17]),\n",
       " array([2.22044605e-14, 2.21022394e-14]))"
      ]
     },
     "execution_count": 16,
     "metadata": {},
     "output_type": "execute_result"
    }
   ],
   "source": [
    "from math import sin, cos, pi\n",
    "from scipy.integrate import quad\n",
    "from numpy import vectorize\n",
    "a = [sin, cos]\n",
    "vectorize(quad)(a, 0, pi)\n",
    "#(array([  2.00000000e+00,   4.92255263e-17]), array([  2.22044605e-14,   2.21022394e-14]))"
   ]
  }
 ],
 "metadata": {
  "kernelspec": {
   "display_name": "Python 3",
   "language": "python",
   "name": "python3"
  },
  "language_info": {
   "codemirror_mode": {
    "name": "ipython",
    "version": 3
   },
   "file_extension": ".py",
   "mimetype": "text/x-python",
   "name": "python",
   "nbconvert_exporter": "python",
   "pygments_lexer": "ipython3",
   "version": "3.7.6"
  }
 },
 "nbformat": 4,
 "nbformat_minor": 4
}
