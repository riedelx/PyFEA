{
 "cells": [
  {
   "cell_type": "markdown",
   "metadata": {},
   "source": [
    "# Bar Element Example\n",
    "\n",
    "Based on [Schuster Engineering](https://www.youtube.com/watch?v=bm7nmaJmxQs&list=PLBwQ5Llf4Q_Vj8xKcxsbzIfdqrtzcHLbe&index=14).\n",
    "\n",
    "<img src=\"images/bar_example1.png\" width=\"400\"/>"
   ]
  },
  {
   "cell_type": "code",
   "execution_count": 1,
   "metadata": {},
   "outputs": [],
   "source": [
    "import numpy as np\n",
    "import pandas as pd\n",
    "import matplotlib.pyplot as plt\n",
    "\n",
    "def df_index(df,val,col_ID): return df.index[df[col_ID] == val].tolist()[0]\n",
    "\n",
    "def df_value(df,val,col_ID0, col_ID1):return df.loc[df_index(df,val,col_ID0)][col_ID1]"
   ]
  },
  {
   "cell_type": "code",
   "execution_count": 23,
   "metadata": {},
   "outputs": [],
   "source": [
    "materials=[['mat1',30]]\n",
    "sections=[['section 1',2,11]]\n",
    "nodes=[['node 1', 0, 0],['node 2', 30, 0],['node 3', 60, 0]]\n",
    "elements=[['element 1','node 1','node 2','section 1','mat1'],['element 2','node 2','node 3','section 1','mat1']]"
   ]
  },
  {
   "cell_type": "code",
   "execution_count": 24,
   "metadata": {},
   "outputs": [],
   "source": [
    "materials=pd.DataFrame(materials,columns=['name','E'])\n",
    "sections=pd.DataFrame(sections,columns=['name','A','I'])\n",
    "nodes=pd.DataFrame(nodes,columns=['name','x','y'])\n",
    "elements=pd.DataFrame(elements,columns=['name','n1','n2','section','material'])"
   ]
  },
  {
   "cell_type": "code",
   "execution_count": 14,
   "metadata": {},
   "outputs": [],
   "source": []
  },
  {
   "cell_type": "code",
   "execution_count": null,
   "metadata": {},
   "outputs": [],
   "source": []
  }
 ],
 "metadata": {
  "kernelspec": {
   "display_name": "Python 3",
   "language": "python",
   "name": "python3"
  },
  "language_info": {
   "codemirror_mode": {
    "name": "ipython",
    "version": 3
   },
   "file_extension": ".py",
   "mimetype": "text/x-python",
   "name": "python",
   "nbconvert_exporter": "python",
   "pygments_lexer": "ipython3",
   "version": "3.7.6"
  }
 },
 "nbformat": 4,
 "nbformat_minor": 4
}
